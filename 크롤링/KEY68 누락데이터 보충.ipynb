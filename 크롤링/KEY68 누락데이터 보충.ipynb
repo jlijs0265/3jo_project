{
 "cells": [
  {
   "cell_type": "code",
   "execution_count": 1,
   "source": [
    "import pandas as pd"
   ],
   "outputs": [],
   "metadata": {}
  },
  {
   "cell_type": "code",
   "execution_count": 2,
   "source": [
    "check= pd.read_csv('image_table.csv')"
   ],
   "outputs": [],
   "metadata": {}
  },
  {
   "cell_type": "code",
   "execution_count": 3,
   "source": [
    "check.groupby('name').count().sort_values('page_image')"
   ],
   "outputs": [
    {
     "output_type": "execute_result",
     "data": {
      "text/html": [
       "<div>\n",
       "<style scoped>\n",
       "    .dataframe tbody tr th:only-of-type {\n",
       "        vertical-align: middle;\n",
       "    }\n",
       "\n",
       "    .dataframe tbody tr th {\n",
       "        vertical-align: top;\n",
       "    }\n",
       "\n",
       "    .dataframe thead th {\n",
       "        text-align: right;\n",
       "    }\n",
       "</style>\n",
       "<table border=\"1\" class=\"dataframe\">\n",
       "  <thead>\n",
       "    <tr style=\"text-align: right;\">\n",
       "      <th></th>\n",
       "      <th>page_image</th>\n",
       "      <th>title</th>\n",
       "      <th>page_link</th>\n",
       "    </tr>\n",
       "    <tr>\n",
       "      <th>name</th>\n",
       "      <th></th>\n",
       "      <th></th>\n",
       "      <th></th>\n",
       "    </tr>\n",
       "  </thead>\n",
       "  <tbody>\n",
       "    <tr>\n",
       "      <th>교환학생</th>\n",
       "      <td>1</td>\n",
       "      <td>1</td>\n",
       "      <td>1</td>\n",
       "    </tr>\n",
       "    <tr>\n",
       "      <th>다름이 아니라</th>\n",
       "      <td>1</td>\n",
       "      <td>1</td>\n",
       "      <td>1</td>\n",
       "    </tr>\n",
       "    <tr>\n",
       "      <th>시에라</th>\n",
       "      <td>1</td>\n",
       "      <td>1</td>\n",
       "      <td>1</td>\n",
       "    </tr>\n",
       "    <tr>\n",
       "      <th>길티액스</th>\n",
       "      <td>1</td>\n",
       "      <td>1</td>\n",
       "      <td>1</td>\n",
       "    </tr>\n",
       "    <tr>\n",
       "      <th>약초마을 연쇄살초사건</th>\n",
       "      <td>1</td>\n",
       "      <td>1</td>\n",
       "      <td>1</td>\n",
       "    </tr>\n",
       "    <tr>\n",
       "      <th>...</th>\n",
       "      <td>...</td>\n",
       "      <td>...</td>\n",
       "      <td>...</td>\n",
       "    </tr>\n",
       "    <tr>\n",
       "      <th>사상최강</th>\n",
       "      <td>20</td>\n",
       "      <td>20</td>\n",
       "      <td>20</td>\n",
       "    </tr>\n",
       "    <tr>\n",
       "      <th>사막에 핀 달</th>\n",
       "      <td>20</td>\n",
       "      <td>20</td>\n",
       "      <td>20</td>\n",
       "    </tr>\n",
       "    <tr>\n",
       "      <th>사람의 조각</th>\n",
       "      <td>20</td>\n",
       "      <td>20</td>\n",
       "      <td>20</td>\n",
       "    </tr>\n",
       "    <tr>\n",
       "      <th>새벽 두 시의 신데렐라</th>\n",
       "      <td>20</td>\n",
       "      <td>20</td>\n",
       "      <td>20</td>\n",
       "    </tr>\n",
       "    <tr>\n",
       "      <th>힙한남자</th>\n",
       "      <td>20</td>\n",
       "      <td>20</td>\n",
       "      <td>20</td>\n",
       "    </tr>\n",
       "  </tbody>\n",
       "</table>\n",
       "<p>443 rows × 3 columns</p>\n",
       "</div>"
      ],
      "text/plain": [
       "              page_image  title  page_link\n",
       "name                                      \n",
       "교환학생                   1      1          1\n",
       "다름이 아니라                1      1          1\n",
       "시에라                    1      1          1\n",
       "길티액스                   1      1          1\n",
       "약초마을 연쇄살초사건            1      1          1\n",
       "...                  ...    ...        ...\n",
       "사상최강                  20     20         20\n",
       "사막에 핀 달               20     20         20\n",
       "사람의 조각                20     20         20\n",
       "새벽 두 시의 신데렐라          20     20         20\n",
       "힙한남자                  20     20         20\n",
       "\n",
       "[443 rows x 3 columns]"
      ]
     },
     "metadata": {},
     "execution_count": 3
    }
   ],
   "metadata": {}
  },
  {
   "cell_type": "code",
   "execution_count": 4,
   "source": [
    "check.groupby('name').count().plot.hist()"
   ],
   "outputs": [
    {
     "output_type": "execute_result",
     "data": {
      "text/plain": [
       "<AxesSubplot:ylabel='Frequency'>"
      ]
     },
     "metadata": {},
     "execution_count": 4
    },
    {
     "output_type": "display_data",
     "data": {
      "image/png": "[encoded data removed]",
      "text/plain": [
       "<Figure size 432x288 with 1 Axes>"
      ]
     },
     "metadata": {
      "needs_background": "light"
     }
    }
   ],
   "metadata": {}
  },
  {
   "cell_type": "code",
   "execution_count": 5,
   "source": [
    "checklist= check.groupby('name').count()['title'].loc[check.groupby('name').count()['title']<20].index.values"
   ],
   "outputs": [],
   "metadata": {}
  },
  {
   "cell_type": "code",
   "execution_count": 6,
   "source": [
    "len(checklist)"
   ],
   "outputs": [
    {
     "output_type": "execute_result",
     "data": {
      "text/plain": [
       "154"
      ]
     },
     "metadata": {},
     "execution_count": 6
    }
   ],
   "metadata": {}
  },
  {
   "cell_type": "code",
   "execution_count": 7,
   "source": [
    "i=0"
   ],
   "outputs": [],
   "metadata": {}
  },
  {
   "cell_type": "code",
   "execution_count": 8,
   "source": [
    "check.loc[check['name']==checklist[i]]\n"
   ],
   "outputs": [
    {
     "output_type": "execute_result",
     "data": {
      "text/html": [
       "<div>\n",
       "<style scoped>\n",
       "    .dataframe tbody tr th:only-of-type {\n",
       "        vertical-align: middle;\n",
       "    }\n",
       "\n",
       "    .dataframe tbody tr th {\n",
       "        vertical-align: top;\n",
       "    }\n",
       "\n",
       "    .dataframe thead th {\n",
       "        text-align: right;\n",
       "    }\n",
       "</style>\n",
       "<table border=\"1\" class=\"dataframe\">\n",
       "  <thead>\n",
       "    <tr style=\"text-align: right;\">\n",
       "      <th></th>\n",
       "      <th>name</th>\n",
       "      <th>page_image</th>\n",
       "      <th>title</th>\n",
       "      <th>page_link</th>\n",
       "    </tr>\n",
       "  </thead>\n",
       "  <tbody>\n",
       "    <tr>\n",
       "      <th>6376</th>\n",
       "      <td>2-3승강장</td>\n",
       "      <td>https://shared-comic.pstatic.net/thumb/webtoon...</td>\n",
       "      <td>19화</td>\n",
       "      <td>https://comic.naver.com/webtoon/detail?titleId...</td>\n",
       "    </tr>\n",
       "    <tr>\n",
       "      <th>6377</th>\n",
       "      <td>2-3승강장</td>\n",
       "      <td>https://shared-comic.pstatic.net/thumb/webtoon...</td>\n",
       "      <td>18화</td>\n",
       "      <td>https://comic.naver.com/webtoon/detail?titleId...</td>\n",
       "    </tr>\n",
       "    <tr>\n",
       "      <th>6378</th>\n",
       "      <td>2-3승강장</td>\n",
       "      <td>https://shared-comic.pstatic.net/thumb/webtoon...</td>\n",
       "      <td>17화</td>\n",
       "      <td>https://comic.naver.com/webtoon/detail?titleId...</td>\n",
       "    </tr>\n",
       "    <tr>\n",
       "      <th>6379</th>\n",
       "      <td>2-3승강장</td>\n",
       "      <td>https://shared-comic.pstatic.net/thumb/webtoon...</td>\n",
       "      <td>16화</td>\n",
       "      <td>https://comic.naver.com/webtoon/detail?titleId...</td>\n",
       "    </tr>\n",
       "    <tr>\n",
       "      <th>6380</th>\n",
       "      <td>2-3승강장</td>\n",
       "      <td>https://shared-comic.pstatic.net/thumb/webtoon...</td>\n",
       "      <td>15화</td>\n",
       "      <td>https://comic.naver.com/webtoon/detail?titleId...</td>\n",
       "    </tr>\n",
       "    <tr>\n",
       "      <th>6381</th>\n",
       "      <td>2-3승강장</td>\n",
       "      <td>https://shared-comic.pstatic.net/thumb/webtoon...</td>\n",
       "      <td>14화</td>\n",
       "      <td>https://comic.naver.com/webtoon/detail?titleId...</td>\n",
       "    </tr>\n",
       "    <tr>\n",
       "      <th>6382</th>\n",
       "      <td>2-3승강장</td>\n",
       "      <td>https://shared-comic.pstatic.net/thumb/webtoon...</td>\n",
       "      <td>13화</td>\n",
       "      <td>https://comic.naver.com/webtoon/detail?titleId...</td>\n",
       "    </tr>\n",
       "    <tr>\n",
       "      <th>6383</th>\n",
       "      <td>2-3승강장</td>\n",
       "      <td>https://shared-comic.pstatic.net/thumb/webtoon...</td>\n",
       "      <td>12화</td>\n",
       "      <td>https://comic.naver.com/webtoon/detail?titleId...</td>\n",
       "    </tr>\n",
       "    <tr>\n",
       "      <th>6384</th>\n",
       "      <td>2-3승강장</td>\n",
       "      <td>https://shared-comic.pstatic.net/thumb/webtoon...</td>\n",
       "      <td>11화</td>\n",
       "      <td>https://comic.naver.com/webtoon/detail?titleId...</td>\n",
       "    </tr>\n",
       "    <tr>\n",
       "      <th>6385</th>\n",
       "      <td>2-3승강장</td>\n",
       "      <td>https://shared-comic.pstatic.net/thumb/webtoon...</td>\n",
       "      <td>10화</td>\n",
       "      <td>https://comic.naver.com/webtoon/detail?titleId...</td>\n",
       "    </tr>\n",
       "    <tr>\n",
       "      <th>6386</th>\n",
       "      <td>2-3승강장</td>\n",
       "      <td>https://shared-comic.pstatic.net/thumb/webtoon...</td>\n",
       "      <td>9화</td>\n",
       "      <td>https://comic.naver.com/webtoon/detail?titleId...</td>\n",
       "    </tr>\n",
       "    <tr>\n",
       "      <th>6387</th>\n",
       "      <td>2-3승강장</td>\n",
       "      <td>https://shared-comic.pstatic.net/thumb/webtoon...</td>\n",
       "      <td>8화</td>\n",
       "      <td>https://comic.naver.com/webtoon/detail?titleId...</td>\n",
       "    </tr>\n",
       "    <tr>\n",
       "      <th>6388</th>\n",
       "      <td>2-3승강장</td>\n",
       "      <td>https://shared-comic.pstatic.net/thumb/webtoon...</td>\n",
       "      <td>7화</td>\n",
       "      <td>https://comic.naver.com/webtoon/detail?titleId...</td>\n",
       "    </tr>\n",
       "    <tr>\n",
       "      <th>6389</th>\n",
       "      <td>2-3승강장</td>\n",
       "      <td>https://shared-comic.pstatic.net/thumb/webtoon...</td>\n",
       "      <td>6화</td>\n",
       "      <td>https://comic.naver.com/webtoon/detail?titleId...</td>\n",
       "    </tr>\n",
       "    <tr>\n",
       "      <th>6390</th>\n",
       "      <td>2-3승강장</td>\n",
       "      <td>https://shared-comic.pstatic.net/thumb/webtoon...</td>\n",
       "      <td>5화</td>\n",
       "      <td>https://comic.naver.com/webtoon/detail?titleId...</td>\n",
       "    </tr>\n",
       "    <tr>\n",
       "      <th>6391</th>\n",
       "      <td>2-3승강장</td>\n",
       "      <td>https://shared-comic.pstatic.net/thumb/webtoon...</td>\n",
       "      <td>4화</td>\n",
       "      <td>https://comic.naver.com/webtoon/detail?titleId...</td>\n",
       "    </tr>\n",
       "    <tr>\n",
       "      <th>6392</th>\n",
       "      <td>2-3승강장</td>\n",
       "      <td>https://shared-comic.pstatic.net/thumb/webtoon...</td>\n",
       "      <td>3화</td>\n",
       "      <td>https://comic.naver.com/webtoon/detail?titleId...</td>\n",
       "    </tr>\n",
       "    <tr>\n",
       "      <th>6393</th>\n",
       "      <td>2-3승강장</td>\n",
       "      <td>https://shared-comic.pstatic.net/thumb/webtoon...</td>\n",
       "      <td>2화</td>\n",
       "      <td>https://comic.naver.com/webtoon/detail?titleId...</td>\n",
       "    </tr>\n",
       "    <tr>\n",
       "      <th>6394</th>\n",
       "      <td>2-3승강장</td>\n",
       "      <td>https://shared-comic.pstatic.net/thumb/webtoon...</td>\n",
       "      <td>1화</td>\n",
       "      <td>https://comic.naver.com/webtoon/detail?titleId...</td>\n",
       "    </tr>\n",
       "  </tbody>\n",
       "</table>\n",
       "</div>"
      ],
      "text/plain": [
       "        name                                         page_image title  \\\n",
       "6376  2-3승강장  https://shared-comic.pstatic.net/thumb/webtoon...   19화   \n",
       "6377  2-3승강장  https://shared-comic.pstatic.net/thumb/webtoon...   18화   \n",
       "6378  2-3승강장  https://shared-comic.pstatic.net/thumb/webtoon...   17화   \n",
       "6379  2-3승강장  https://shared-comic.pstatic.net/thumb/webtoon...   16화   \n",
       "6380  2-3승강장  https://shared-comic.pstatic.net/thumb/webtoon...   15화   \n",
       "6381  2-3승강장  https://shared-comic.pstatic.net/thumb/webtoon...   14화   \n",
       "6382  2-3승강장  https://shared-comic.pstatic.net/thumb/webtoon...   13화   \n",
       "6383  2-3승강장  https://shared-comic.pstatic.net/thumb/webtoon...   12화   \n",
       "6384  2-3승강장  https://shared-comic.pstatic.net/thumb/webtoon...   11화   \n",
       "6385  2-3승강장  https://shared-comic.pstatic.net/thumb/webtoon...   10화   \n",
       "6386  2-3승강장  https://shared-comic.pstatic.net/thumb/webtoon...    9화   \n",
       "6387  2-3승강장  https://shared-comic.pstatic.net/thumb/webtoon...    8화   \n",
       "6388  2-3승강장  https://shared-comic.pstatic.net/thumb/webtoon...    7화   \n",
       "6389  2-3승강장  https://shared-comic.pstatic.net/thumb/webtoon...    6화   \n",
       "6390  2-3승강장  https://shared-comic.pstatic.net/thumb/webtoon...    5화   \n",
       "6391  2-3승강장  https://shared-comic.pstatic.net/thumb/webtoon...    4화   \n",
       "6392  2-3승강장  https://shared-comic.pstatic.net/thumb/webtoon...    3화   \n",
       "6393  2-3승강장  https://shared-comic.pstatic.net/thumb/webtoon...    2화   \n",
       "6394  2-3승강장  https://shared-comic.pstatic.net/thumb/webtoon...    1화   \n",
       "\n",
       "                                              page_link  \n",
       "6376  https://comic.naver.com/webtoon/detail?titleId...  \n",
       "6377  https://comic.naver.com/webtoon/detail?titleId...  \n",
       "6378  https://comic.naver.com/webtoon/detail?titleId...  \n",
       "6379  https://comic.naver.com/webtoon/detail?titleId...  \n",
       "6380  https://comic.naver.com/webtoon/detail?titleId...  \n",
       "6381  https://comic.naver.com/webtoon/detail?titleId...  \n",
       "6382  https://comic.naver.com/webtoon/detail?titleId...  \n",
       "6383  https://comic.naver.com/webtoon/detail?titleId...  \n",
       "6384  https://comic.naver.com/webtoon/detail?titleId...  \n",
       "6385  https://comic.naver.com/webtoon/detail?titleId...  \n",
       "6386  https://comic.naver.com/webtoon/detail?titleId...  \n",
       "6387  https://comic.naver.com/webtoon/detail?titleId...  \n",
       "6388  https://comic.naver.com/webtoon/detail?titleId...  \n",
       "6389  https://comic.naver.com/webtoon/detail?titleId...  \n",
       "6390  https://comic.naver.com/webtoon/detail?titleId...  \n",
       "6391  https://comic.naver.com/webtoon/detail?titleId...  \n",
       "6392  https://comic.naver.com/webtoon/detail?titleId...  \n",
       "6393  https://comic.naver.com/webtoon/detail?titleId...  \n",
       "6394  https://comic.naver.com/webtoon/detail?titleId...  "
      ]
     },
     "metadata": {},
     "execution_count": 8
    }
   ],
   "metadata": {}
  },
  {
   "cell_type": "code",
   "execution_count": 9,
   "source": [
    "i+=1"
   ],
   "outputs": [],
   "metadata": {}
  },
  {
   "cell_type": "code",
   "execution_count": 10,
   "source": [
    "# 154개 언제 다보냐 그냥 새로 가져오자\n",
    "from urllib.request import Request, urlopen\n",
    "from bs4 import BeautifulSoup\n",
    "import numpy as np\n",
    "import pandas as pd"
   ],
   "outputs": [],
   "metadata": {}
  },
  {
   "cell_type": "code",
   "execution_count": 11,
   "source": [
    "order = pd.read_csv('./order_table.csv')[['name', 'link']]"
   ],
   "outputs": [],
   "metadata": {}
  },
  {
   "cell_type": "code",
   "execution_count": 12,
   "source": [
    "# 2일 연재, 3일연재 중복제거\n",
    "order.drop_duplicates('name', inplace=True)"
   ],
   "outputs": [],
   "metadata": {}
  },
  {
   "cell_type": "code",
   "execution_count": 13,
   "source": [
    "order.link"
   ],
   "outputs": [
    {
     "output_type": "execute_result",
     "data": {
      "text/plain": [
       "0      https://comic.naver.com/webtoon/list?titleId=7...\n",
       "1      https://comic.naver.com/webtoon/list?titleId=1...\n",
       "2      https://comic.naver.com/webtoon/list?titleId=6...\n",
       "3      https://comic.naver.com/webtoon/list?titleId=6...\n",
       "4      https://comic.naver.com/webtoon/list?titleId=7...\n",
       "                             ...                        \n",
       "450    https://comic.naver.com/webtoon/list?titleId=7...\n",
       "451    https://comic.naver.com/webtoon/list?titleId=7...\n",
       "452    https://comic.naver.com/webtoon/list?titleId=7...\n",
       "453    https://comic.naver.com/webtoon/list?titleId=7...\n",
       "454    https://comic.naver.com/webtoon/list?titleId=7...\n",
       "Name: link, Length: 443, dtype: object"
      ]
     },
     "metadata": {},
     "execution_count": 13
    }
   ],
   "metadata": {}
  },
  {
   "cell_type": "code",
   "execution_count": 49,
   "source": [
    "before = order.name.values"
   ],
   "outputs": [],
   "metadata": {}
  },
  {
   "cell_type": "code",
   "execution_count": 14,
   "source": [
    "order['titleId'] = order['link'].str.split('?',expand = True)[1].str.split('=',expand = True)[1].str.split('&',expand = True)[0]"
   ],
   "outputs": [],
   "metadata": {}
  },
  {
   "cell_type": "code",
   "execution_count": 15,
   "source": [
    "titleId = order['titleId'].values"
   ],
   "outputs": [],
   "metadata": {}
  },
  {
   "cell_type": "code",
   "execution_count": 31,
   "source": [
    "len(titleId)"
   ],
   "outputs": [
    {
     "output_type": "execute_result",
     "data": {
      "text/plain": [
       "443"
      ]
     },
     "metadata": {},
     "execution_count": 31
    }
   ],
   "metadata": {}
  },
  {
   "cell_type": "code",
   "execution_count": 42,
   "source": [
    "titleId"
   ],
   "outputs": [
    {
     "output_type": "execute_result",
     "data": {
      "text/plain": [
       "array(['758037', '183559', '648419', '602910', '774863', '728750',\n",
       "       '733074', '654774', '749632', '739115', '769317', '759940',\n",
       "       '703849', '768536', '709731', '730174', '21815', '758666',\n",
       "       '752414', '772725', '741891', '716857', '774703', '769663',\n",
       "       '734574', '776541', '597478', '768534', '738809', '770656',\n",
       "       '758671', '774302', '687915', '761461', '772734', '767919',\n",
       "       '744320', '772243', '766575', '758667', '752350', '762237',\n",
       "       '752413', '752530', '774040', '745654', '765776', '715206',\n",
       "       '756140', '740132', '750493', '761553', '759420', '764041',\n",
       "       '734918', '767979', '761463', '769801', '756790', '764480',\n",
       "       '764623', '754872', '770590', '703846', '773459', '759925',\n",
       "       '743139', '738487', '730656', '738174', '702608', '683496',\n",
       "       '778963', '772401', '719508', '775721', '753856', '757904',\n",
       "       '774358', '721433', '755694', '698918', '711422', '771044',\n",
       "       '616239', '754875', '766648', '723046', '776093', '765156',\n",
       "       '740034', '774504', '753853', '741449', '767908', '733458',\n",
       "       '676695', '755601', '753839', '726214', '654138', '732988',\n",
       "       '759924', '775328', '778228', '771063', '752532', '770068',\n",
       "       '761601', '738145', '766966', '744381', '762073', '770477',\n",
       "       '765822', '737019', '738483', '769551', '703850', '770030',\n",
       "       '775337', '746535', '752531', '773085', '771095', '764622',\n",
       "       '774022', '769987', '758672', '759923', '771018', '670143',\n",
       "       '747269', '774862', '728015', '738694', '736744', '758662',\n",
       "       '769209', '749639', '738143', '702672', '710747', '775690',\n",
       "       '775141', '717481', '667573', '732955', '750184', '728126',\n",
       "       '748535', '761498', '750826', '765158', '733079', '730425',\n",
       "       '774088', '760001', '710760', '718020', '671421', '748536',\n",
       "       '733034', '770524', '725829', '755668', '752533', '750558',\n",
       "       '735979', '602916', '760002', '777194', '745589', '736281',\n",
       "       '772729', '755758', '771718', '773187', '774853', '763851',\n",
       "       '758670', '751642', '739113', '736699', '762786', '770844',\n",
       "       '740481', '751625', '735254', '774039', '768466', '756606',\n",
       "       '736989', '570503', '557672', '747271', '731130', '775218',\n",
       "       '739503', '773417', '756137', '762279', '727798', '746857',\n",
       "       '776668', '710761', '758659', '758439', '701700', '774451',\n",
       "       '770523', '740487', '131385', '570506', '748831', '748069',\n",
       "       '777224', '776655', '775631', '741825', '774924', '729964',\n",
       "       '731930', '776790', '768468', '778707', '753222', '776542',\n",
       "       '766503', '733033', '715935', '762035', '770015', '765322',\n",
       "       '762781', '758678', '777830', '733076', '758673', '743270',\n",
       "       '770873', '771720', '758661', '772691', '745472', '769662',\n",
       "       '772192', '768471', '754876', '736274', '771717', '761102',\n",
       "       '751993', '759475', '771985', '641253', '318995', '773797',\n",
       "       '753478', '725586', '778153', '772764', '712362', '776601',\n",
       "       '773476', '773916', '777272', '761722', '759457', '552960',\n",
       "       '748534', '751168', '745876', '700844', '746534', '764130',\n",
       "       '752402', '766563', '765471', '765804', '758660', '729963',\n",
       "       '776669', '758675', '724431', '769210', '759418', '768469',\n",
       "       '777767', '749633', '772020', '775140', '732036', '655749',\n",
       "       '769567', '765821', '764022', '741467', '766626', '771330',\n",
       "       '769660', '761496', '644112', '761587', '777853', '769747',\n",
       "       '768470', '764040', '524520', '773475', '751999', '739350',\n",
       "       '775334', '764165', '746835', '771011', '755788', '729036',\n",
       "       '762777', '753806', '774087', '758677', '650305', '597447',\n",
       "       '775723', '727188', '753509', '773796', '762071', '776656',\n",
       "       '758619', '64997', '746834', '733280', '721948', '769568',\n",
       "       '703630', '724815', '765157', '739127', '732021', '762277',\n",
       "       '774706', '774043', '772853', '778284', '755559', '729047',\n",
       "       '755744', '777829', '774051', '776134', '755581', '724274',\n",
       "       '749456', '752340', '753975', '774832', '762236', '739411',\n",
       "       '771065', '746833', '749054', '765470', '729563', '757579',\n",
       "       '774300', '770964', '761709', '750582', '769802', '764951',\n",
       "       '764128', '770019', '733277', '748532', '769193', '753973',\n",
       "       '756789', '761592', '735078', '753304', '754780', '742782',\n",
       "       '736277', '774831', '746858', '670152', '710751', '758150',\n",
       "       '774044', '776092', '743838', '761104', '751207', '761565',\n",
       "       '730657', '769658', '763308', '775725', '764129', '768473',\n",
       "       '695796', '655746', '737628', '759567', '774865', '727476',\n",
       "       '755982', '775657', '755674', '771910', '733728', '739097',\n",
       "       '776096', '773027', '767874', '730607', '741458', '777222',\n",
       "       '773473', '773524', '761599', '740387', '775318', '758664',\n",
       "       '777221', '753842', '776143', '771933', '766504', '758676',\n",
       "       '761514', '745409', '729883', '759641', '771719', '773067',\n",
       "       '768467', '752462', '758665', '758145', '728128'], dtype=object)"
      ]
     },
     "metadata": {},
     "execution_count": 42
    }
   ],
   "metadata": {}
  },
  {
   "cell_type": "code",
   "execution_count": 17,
   "source": [
    "titleId[0:1]"
   ],
   "outputs": [
    {
     "output_type": "execute_result",
     "data": {
      "text/plain": [
       "array(['758037'], dtype=object)"
      ]
     },
     "metadata": {},
     "execution_count": 17
    }
   ],
   "metadata": {}
  },
  {
   "cell_type": "code",
   "execution_count": 180,
   "source": [
    "order.loc[order.name=='신의 탑']"
   ],
   "outputs": [
    {
     "output_type": "execute_result",
     "data": {
      "text/html": [
       "<div>\n",
       "<style scoped>\n",
       "    .dataframe tbody tr th:only-of-type {\n",
       "        vertical-align: middle;\n",
       "    }\n",
       "\n",
       "    .dataframe tbody tr th {\n",
       "        vertical-align: top;\n",
       "    }\n",
       "\n",
       "    .dataframe thead th {\n",
       "        text-align: right;\n",
       "    }\n",
       "</style>\n",
       "<table border=\"1\" class=\"dataframe\">\n",
       "  <thead>\n",
       "    <tr style=\"text-align: right;\">\n",
       "      <th></th>\n",
       "      <th>name</th>\n",
       "      <th>link</th>\n",
       "      <th>titleId</th>\n",
       "    </tr>\n",
       "  </thead>\n",
       "  <tbody>\n",
       "    <tr>\n",
       "      <th>1</th>\n",
       "      <td>신의 탑</td>\n",
       "      <td>https://comic.naver.com/webtoon/list?titleId=1...</td>\n",
       "      <td>183559</td>\n",
       "    </tr>\n",
       "  </tbody>\n",
       "</table>\n",
       "</div>"
      ],
      "text/plain": [
       "   name                                               link titleId\n",
       "1  신의 탑  https://comic.naver.com/webtoon/list?titleId=1...  183559"
      ]
     },
     "metadata": {},
     "execution_count": 180
    }
   ],
   "metadata": {}
  },
  {
   "cell_type": "code",
   "execution_count": 65,
   "source": [
    "checking=776096"
   ],
   "outputs": [],
   "metadata": {}
  },
  {
   "cell_type": "code",
   "execution_count": 85,
   "source": [
    "def create_new_url(link):\n",
    "    return 'https://comic.naver.com/webtoon/list?titleId='+str(link)+'&page=1'\n",
    "\n",
    "def create_old_url(link):\n",
    "    return 'https://comic.naver.com/webtoon/list?titleId='+str(link)+'&page=999'"
   ],
   "outputs": [],
   "metadata": {}
  },
  {
   "cell_type": "code",
   "execution_count": 86,
   "source": [
    "create_new_url(checking)"
   ],
   "outputs": [
    {
     "output_type": "execute_result",
     "data": {
      "text/plain": [
       "'https://comic.naver.com/webtoon/list?titleId=776096&page=1'"
      ]
     },
     "metadata": {},
     "execution_count": 86
    }
   ],
   "metadata": {}
  },
  {
   "cell_type": "code",
   "execution_count": 92,
   "source": [
    "len(soup.select('#content > table')[0].find_all('a'))//2"
   ],
   "outputs": [
    {
     "output_type": "execute_result",
     "data": {
      "text/plain": [
       "10"
      ]
     },
     "metadata": {},
     "execution_count": 92
    }
   ],
   "metadata": {}
  },
  {
   "cell_type": "code",
   "execution_count": 97,
   "source": [
    "titleId[0]"
   ],
   "outputs": [
    {
     "output_type": "execute_result",
     "data": {
      "text/plain": [
       "'758037'"
      ]
     },
     "metadata": {},
     "execution_count": 97
    }
   ],
   "metadata": {}
  },
  {
   "cell_type": "code",
   "execution_count": null,
   "source": [
    "#for link in titleId[0:1]: 입력, 루프문 테스트"
   ],
   "outputs": [],
   "metadata": {}
  },
  {
   "cell_type": "code",
   "execution_count": 105,
   "source": [
    "# 최신 10화 가져오기(제일 최근에 나온화는 뺴고)\n",
    "for link in titleId[0:1]:\n",
    "    #크롤링\n",
    "    url = create_new_url(link)\n",
    "    request = Request(url)\n",
    "    request.get_method = lambda: 'GET'\n",
    "    response_body = urlopen(request).read()\n",
    "    soup = BeautifulSoup(response_body, 'html.parser')\n",
    "    rough = soup.select('#content > div.comicinfo')\n",
    "    #가져올 변수 초기화\n",
    "    name=[]\n",
    "    page_image=[]\n",
    "    title=[]\n",
    "    page_link=[]\n",
    "    count = 0\n",
    "    \n",
    "    # 크롤링으로 표의 줄 갯수 확인해서 반복\n",
    "    # AD 배너라면 PASS\n",
    "    while 1:\n",
    "        print(count)\n",
    "        # 1페이지가 10개 이하일때(나온 웹툰이 10화 이하라면, a태그 반복때문에 나누기 2해줘야함)\n",
    "        if len(soup.select('#content > table')[0].find_all('a'))//2 < 10:\n",
    "            # 테이블 줄수만큼 반복(a태그 x2)\n",
    "            for i in np.arange(len(soup.select('#content > table')[0].find_all('a'))//2):\n",
    "                print(count, '10 이하')\n",
    "                if soup.select('#content > table')[0].find_all('a')[-2-i*2].img.get('alt')=='AD 배너':\n",
    "                    print(count, 'pass 중')\n",
    "                    pass\n",
    "                else:\n",
    "                    name.append(rough[0].img.get('title'))\n",
    "                    page_image.append(soup.select('#content > table')[0].find_all('a')[-2-i*2].img.get('src'))\n",
    "                    title.append(soup.select('#content > table')[0].find_all('a')[-2-i*2].img.get('alt'))\n",
    "                    page_link.append('https://comic.naver.com'+soup.select('#content > table')[0].find_all('a')[-2-i*2].get('href'))\n",
    "                    count =1+count\n",
    "                    print(count, 'append 중')\n",
    "\n",
    "            #다음 페이지가 없으면 정지\n",
    "            if len(soup.select('#content > div.paginate > div')[0].find_all('a', class_='page'))==0:\n",
    "                break\n",
    "            #에러메세지(생각못한 구조)\n",
    "            else:\n",
    "                print(\"1페이지가 10개 이하 이고, 다음 페이지가 있는 작품 :\",rough[0].img.get('title'))\n",
    "        # 1페이지가 10개 이상(보통 광고하나 껴서 21개일때가 많고, 다른 광고껴있으면 22개정도가 최대인듯, 그래서 뒤쪽 태그부터 가져오기)\n",
    "        else :\n",
    "            # 1페이지에서 9개 가져오기\n",
    "            for i in np.arange(9):\n",
    "                print(count, '10 이상')\n",
    "\n",
    "                if soup.select('#content > table')[0].find_all('a')[-2-i*2].img.get('alt')=='AD 배너':\n",
    "                    print(count, 'pass 중')\n",
    "                    pass\n",
    "                else:\n",
    "                    name.append(rough[0].img.get('title'))\n",
    "                    page_image.append(soup.select('#content > table')[0].find_all('a')[-2-i*2].img.get('src'))\n",
    "                    title.append(soup.select('#content > table')[0].find_all('a')[-2-i*2].img.get('alt'))\n",
    "                    page_link.append('https://comic.naver.com'+soup.select('#content > table')[0].find_all('a')[-2-i*2].get('href'))\n",
    "                    count =1+count\n",
    "                    print(count, 'append 중')\n",
    "            # 2페이지에서 1개 가져오기\n",
    "            url2 = 'https://comic.naver.com'+soup.select('#content > div.paginate > div')[0].find_all('a', class_='page')[0].get('href')\n",
    "            request = Request(url2)\n",
    "            request.get_method = lambda: 'GET'\n",
    "            response_body = urlopen(request).read()\n",
    "            soup = BeautifulSoup(response_body, 'html.parser')\n",
    "            for i in np.arange(len(soup.select('#content > table')[0].find_all('a'))//2):\n",
    "                \n",
    "                if count==10:\n",
    "                    print(count, '2page 끝')\n",
    "                    break\n",
    "\n",
    "                name.append(rough[0].img.get('title'))\n",
    "                page_image.append(soup.select('#content > table')[0].find_all('a')[-2-(len(soup.select('#content > table')[0].find_all('a'))//2-1-i)*2].img.get('src'))\n",
    "                title.append(soup.select('#content > table')[0].find_all('a')[-2-(len(soup.select('#content > table')[0].find_all('a'))//2-1-i)*2].img.get('alt'))\n",
    "                page_link.append('https://comic.naver.com'+soup.select('#content > table')[0].find_all('a')[-2-(len(soup.select('#content > table')[0].find_all('a'))//2-1-i)*2].get('href'))\n",
    "                count = 1+count\n",
    "                print(count, '2page 중')\n",
    "\n",
    "\n",
    "        # 찾은 정보 데이터 프레임 안에 넣기\n",
    "        image_table_temp = pd.DataFrame(name).rename(columns={0:'name'})\n",
    "        image_table_temp['page_image'] = page_image\n",
    "        image_table_temp['title'] = title\n",
    "        image_table_temp['page_link'] = page_link\n",
    "        if count==10:\n",
    "            print('데이터 프레임 안에 넣음')\n",
    "            break\n",
    "    \n",
    "\n",
    "# 오래된거 10화 가져오기"
   ],
   "outputs": [
    {
     "output_type": "stream",
     "name": "stdout",
     "text": [
      "0\n",
      "0 10 이상\n",
      "1 append 중\n",
      "1 10 이상\n",
      "2 append 중\n",
      "2 10 이상\n",
      "3 append 중\n",
      "3 10 이상\n",
      "4 append 중\n",
      "4 10 이상\n",
      "5 append 중\n",
      "5 10 이상\n",
      "6 append 중\n",
      "6 10 이상\n",
      "7 append 중\n",
      "7 10 이상\n",
      "8 append 중\n",
      "8 10 이상\n",
      "9 append 중\n",
      "10 2page 중\n",
      "10 2page 끝\n",
      "데이터 프레임 안에 넣음\n"
     ]
    }
   ],
   "metadata": {}
  },
  {
   "cell_type": "code",
   "execution_count": 109,
   "source": [
    "soup.select('#content > table')[0].find_all('a')"
   ],
   "outputs": [
    {
     "output_type": "execute_result",
     "data": {
      "text/plain": [
       "[<a href=\"#\" onclick=\"callWebAdBannerClick('/api/stat/gameBanner?type=CLICK&amp;target=ARTICLE_LIST&amp;bannerId=716', 'https://dhaj.adj.st?adj_t=52e6w9r&amp;adj_deep_link=play%3A%2F%2Fyumicell&amp;adj_campaign=housebanner&amp;adj_adgroup=molist&amp;adj_fallback=https%3A%2F%2Fgame.naver.com%2Flounge%2FYumis_Cells_the_Puzzle%2Fhome&amp;adj_redirect_macos=https%3A%2F%2Fgame.naver.com%2Flounge%2FYumis_Cells_the_Puzzle%2Fhome');nclk_v2(event,'lst.adbanner');return false;\">\n",
       " <img alt=\"AD 배너\" height=\"44\" src=\"https://naverwebtoon-phinf.pstatic.net/20210903_109/16306594776506n1iE_PNG/upload_6809476423605085335.PNG\" width=\"694\"/>\n",
       " </a>,\n",
       " <a href=\"https://series.naver.com/comic/detail.nhn?originalProductId=440127\" onclick=\"nclk_v2(event,'lst.gostore','776096');\" target=\"_blank\">\n",
       " <em class=\"ico_store2\">NAVER 만화</em>완결까지 정주행!</a>,\n",
       " <a href=\"/webtoon/detail?titleId=776096&amp;no=9&amp;weekday=sun\" onclick=\"nclk_v2(event,'lst.img','776096','9')\">\n",
       " <img alt=\"9화\" height=\"41\" onerror=\"this.src='https://ssl.pstatic.net/static/comic/images/migration/common/non71_41.gif'\" src=\"https://shared-comic.pstatic.net/thumb/webtoon/776096/9/thumbnail_202x120_418a7126-519c-4fb0-9187-6fc70b5720b7.jpg\" title=\"9화\" width=\"71\"/>\n",
       " <span class=\"mask\"></span>\n",
       " </a>,\n",
       " <a href=\"/webtoon/detail?titleId=776096&amp;no=9&amp;weekday=sun\" onclick=\"nclk_v2(event,'lst.title','776096','9')\">9화</a>,\n",
       " <a href=\"/webtoon/detail?titleId=776096&amp;no=8&amp;weekday=sun\" onclick=\"nclk_v2(event,'lst.img','776096','8')\">\n",
       " <img alt=\"8화\" height=\"41\" onerror=\"this.src='https://ssl.pstatic.net/static/comic/images/migration/common/non71_41.gif'\" src=\"https://shared-comic.pstatic.net/thumb/webtoon/776096/8/thumbnail_202x120_ff4148f2-90a4-4996-82b7-1ae7edd0fb32.jpg\" title=\"8화\" width=\"71\"/>\n",
       " <span class=\"mask\"></span>\n",
       " </a>,\n",
       " <a href=\"/webtoon/detail?titleId=776096&amp;no=8&amp;weekday=sun\" onclick=\"nclk_v2(event,'lst.title','776096','8')\">8화</a>,\n",
       " <a href=\"/webtoon/detail?titleId=776096&amp;no=7&amp;weekday=sun\" onclick=\"nclk_v2(event,'lst.img','776096','7')\">\n",
       " <img alt=\"7화\" height=\"41\" onerror=\"this.src='https://ssl.pstatic.net/static/comic/images/migration/common/non71_41.gif'\" src=\"https://shared-comic.pstatic.net/thumb/webtoon/776096/7/thumbnail_202x120_49211ae2-c149-4f99-9b60-17981d874b83.jpg\" title=\"7화\" width=\"71\"/>\n",
       " <span class=\"mask\"></span>\n",
       " </a>,\n",
       " <a href=\"/webtoon/detail?titleId=776096&amp;no=7&amp;weekday=sun\" onclick=\"nclk_v2(event,'lst.title','776096','7')\">7화</a>,\n",
       " <a href=\"/webtoon/detail?titleId=776096&amp;no=6&amp;weekday=sun\" onclick=\"nclk_v2(event,'lst.img','776096','6')\">\n",
       " <img alt=\"6화\" height=\"41\" onerror=\"this.src='https://ssl.pstatic.net/static/comic/images/migration/common/non71_41.gif'\" src=\"https://shared-comic.pstatic.net/thumb/webtoon/776096/6/thumbnail_202x120_4b32df98-8ea1-49cd-8e46-ed9780eece78.jpg\" title=\"6화\" width=\"71\"/>\n",
       " <span class=\"mask\"></span>\n",
       " </a>,\n",
       " <a href=\"/webtoon/detail?titleId=776096&amp;no=6&amp;weekday=sun\" onclick=\"nclk_v2(event,'lst.title','776096','6')\">6화</a>,\n",
       " <a href=\"/webtoon/detail?titleId=776096&amp;no=5&amp;weekday=sun\" onclick=\"nclk_v2(event,'lst.img','776096','5')\">\n",
       " <img alt=\"5화\" height=\"41\" onerror=\"this.src='https://ssl.pstatic.net/static/comic/images/migration/common/non71_41.gif'\" src=\"https://shared-comic.pstatic.net/thumb/webtoon/776096/5/thumbnail_202x120_61a8b511-a544-4c8d-b416-c1977182511b.jpg\" title=\"5화\" width=\"71\"/>\n",
       " <span class=\"mask\"></span>\n",
       " </a>,\n",
       " <a href=\"/webtoon/detail?titleId=776096&amp;no=5&amp;weekday=sun\" onclick=\"nclk_v2(event,'lst.title','776096','5')\">5화</a>,\n",
       " <a href=\"/webtoon/detail?titleId=776096&amp;no=4&amp;weekday=sun\" onclick=\"nclk_v2(event,'lst.img','776096','4')\">\n",
       " <img alt=\"4화\" height=\"41\" onerror=\"this.src='https://ssl.pstatic.net/static/comic/images/migration/common/non71_41.gif'\" src=\"https://shared-comic.pstatic.net/thumb/webtoon/776096/4/thumbnail_202x120_13e1f7b6-8ceb-4c37-af2c-12aee666e233.jpg\" title=\"4화\" width=\"71\"/>\n",
       " <span class=\"mask\"></span>\n",
       " </a>,\n",
       " <a href=\"/webtoon/detail?titleId=776096&amp;no=4&amp;weekday=sun\" onclick=\"nclk_v2(event,'lst.title','776096','4')\">4화</a>,\n",
       " <a href=\"/webtoon/detail?titleId=776096&amp;no=3&amp;weekday=sun\" onclick=\"nclk_v2(event,'lst.img','776096','3')\">\n",
       " <img alt=\"3화\" height=\"41\" onerror=\"this.src='https://ssl.pstatic.net/static/comic/images/migration/common/non71_41.gif'\" src=\"https://shared-comic.pstatic.net/thumb/webtoon/776096/3/thumbnail_202x120_c581e9fa-319a-43cd-820e-0b3468acef76.jpg\" title=\"3화\" width=\"71\"/>\n",
       " <span class=\"mask\"></span>\n",
       " </a>,\n",
       " <a href=\"/webtoon/detail?titleId=776096&amp;no=3&amp;weekday=sun\" onclick=\"nclk_v2(event,'lst.title','776096','3')\">3화</a>,\n",
       " <a href=\"/webtoon/detail?titleId=776096&amp;no=2&amp;weekday=sun\" onclick=\"nclk_v2(event,'lst.img','776096','2')\">\n",
       " <img alt=\"2화\" height=\"41\" onerror=\"this.src='https://ssl.pstatic.net/static/comic/images/migration/common/non71_41.gif'\" src=\"https://shared-comic.pstatic.net/thumb/webtoon/776096/2/thumbnail_202x120_e56b74db-395a-4298-b9af-e425b2442661.jpg\" title=\"2화\" width=\"71\"/>\n",
       " <span class=\"mask\"></span>\n",
       " </a>,\n",
       " <a href=\"/webtoon/detail?titleId=776096&amp;no=2&amp;weekday=sun\" onclick=\"nclk_v2(event,'lst.title','776096','2')\">2화</a>,\n",
       " <a href=\"/webtoon/detail?titleId=776096&amp;no=1&amp;weekday=sun\" onclick=\"nclk_v2(event,'lst.img','776096','1')\">\n",
       " <img alt=\"1화\" height=\"41\" onerror=\"this.src='https://ssl.pstatic.net/static/comic/images/migration/common/non71_41.gif'\" src=\"https://shared-comic.pstatic.net/thumb/webtoon/776096/1/thumbnail_202x120_b6edd239-245d-4003-9732-bba4524f780f.jpg\" title=\"1화\" width=\"71\"/>\n",
       " <span class=\"mask\"></span>\n",
       " </a>,\n",
       " <a href=\"/webtoon/detail?titleId=776096&amp;no=1&amp;weekday=sun\" onclick=\"nclk_v2(event,'lst.title','776096','1')\">1화</a>]"
      ]
     },
     "metadata": {},
     "execution_count": 109
    }
   ],
   "metadata": {}
  },
  {
   "cell_type": "code",
   "execution_count": 188,
   "source": [
    "-2-(len(soup.select('#content > table')[0].find_all('a'))//2-1-i)*2"
   ],
   "outputs": [
    {
     "output_type": "execute_result",
     "data": {
      "text/plain": [
       "-20"
      ]
     },
     "metadata": {},
     "execution_count": 188
    }
   ],
   "metadata": {}
  },
  {
   "cell_type": "code",
   "execution_count": 201,
   "source": [
    "# 최신 10화 가져오기(제일 최근에 나온화는 뺴고)\n",
    "for link in titleId:\n",
    "    #크롤링\n",
    "    url = create_new_url(link)\n",
    "    request = Request(url)\n",
    "    request.get_method = lambda: 'GET'\n",
    "    response_body = urlopen(request).read()\n",
    "    soup = BeautifulSoup(response_body, 'html.parser')\n",
    "    rough = soup.select('#content > div.comicinfo')\n",
    "    #가져올 변수 초기화\n",
    "    name=[]\n",
    "    page_image=[]\n",
    "    title=[]\n",
    "    page_link=[]\n",
    "    count = 0\n",
    "    \n",
    "    # 크롤링으로 표의 줄 갯수 확인해서 반복\n",
    "    # AD 배너라면 위에 다왔으니 break\n",
    "    while 1:\n",
    "        # 1페이지가 10개 이하일때(나온 웹툰이 10화 이하라면, a태그 반복때문에 나누기 2해줘야함)\n",
    "        if len(soup.select('#content > table')[0].find_all('a'))//2 < 10:\n",
    "            # 테이블 줄수만큼 반복(a태그 x2)\n",
    "            for i in np.arange(len(soup.select('#content > table')[0].find_all('a'))//2):\n",
    "                if soup.select('#content > table')[0].find_all('a')[-2-i*2].img.get('alt')=='AD 배너':\n",
    "                    break\n",
    "                else:\n",
    "                    name.append(rough[0].img.get('title'))\n",
    "                    page_image.append(soup.select('#content > table')[0].find_all('a')[-2-i*2].img.get('src'))\n",
    "                    title.append(soup.select('#content > table')[0].find_all('a')[-2-i*2].img.get('alt'))\n",
    "                    page_link.append('https://comic.naver.com'+soup.select('#content > table')[0].find_all('a')[-2-i*2].get('href'))\n",
    "                    count =1+count\n",
    "\n",
    "            #다음 페이지가 없으면 정지\n",
    "            if len(soup.select('#content > div.paginate > div')[0].find_all('a', class_='page'))==0:\n",
    "                break\n",
    "            #에러메세지(생각못한 구조)\n",
    "            else:\n",
    "                print(\"1페이지가 10개 이하 이고, 다음 페이지가 있는 작품 :\",rough[0].img.get('title'))\n",
    "        # 1페이지가 10개 이상(보통 광고하나 껴서 21개일때가 많고, 다른 광고껴있으면 22개정도가 최대인듯, 그래서 뒤쪽 태그부터 가져오기)\n",
    "        else :\n",
    "            # 1페이지에서 9개 가져오기\n",
    "            for i in np.arange(9)+1:\n",
    "                print('url',soup.select('#content > table')[0].find_all('a')[-(len(soup.select('#content > table')[0].find_all('a'))//2-1-i)*2].img.get('alt'), i)\n",
    "                if soup.select('#content > table')[0].find_all('a')[-(len(soup.select('#content > table')[0].find_all('a'))//2-1-i)*2].img.get('alt')=='AD 배너':\n",
    "                    pass\n",
    "                else:\n",
    "                    name.append(rough[0].img.get('title'))\n",
    "                    page_image.append(soup.select('#content > table')[0].find_all('a')[-(len(soup.select('#content > table')[0].find_all('a'))//2-1-i)*2].img.get('src'))\n",
    "                    title.append(soup.select('#content > table')[0].find_all('a')[-(len(soup.select('#content > table')[0].find_all('a'))//2-1-i)*2].img.get('alt'))\n",
    "                    page_link.append('https://comic.naver.com'+soup.select('#content > table')[0].find_all('a')[-(len(soup.select('#content > table')[0].find_all('a'))//2-1-i)*2].get('href'))\n",
    "                    count =1+count\n",
    "            # 2페이지에서 1개 가져오기\n",
    "            if len(soup.select('#content > div.paginate > div')[0].find_all('a', class_='page'))==0:\n",
    "                break\n",
    "            url2 = 'https://comic.naver.com'+soup.select('#content > div.paginate > div')[0].find_all('a', class_='page')[0].get('href')\n",
    "            request = Request(url2)\n",
    "            request.get_method = lambda: 'GET'\n",
    "            response_body = urlopen(request).read()\n",
    "            soup = BeautifulSoup(response_body, 'html.parser')\n",
    "            for i in np.arange(len(soup.select('#content > table')[0].find_all('a'))//2):\n",
    "                print('url2',soup.select('#content > table')[0].find_all('a')[-2-(len(soup.select('#content > table')[0].find_all('a'))//2-1-i)*2].img.get('alt'), i)\n",
    "                if count==10:\n",
    "                    break\n",
    "                if soup.select('#content > table')[0].find_all('a')[-2-(len(soup.select('#content > table')[0].find_all('a'))//2-1-i)*2].img.get('alt')=='AD 배너':\n",
    "                    pass\n",
    "                else:\n",
    "                    name.append(rough[0].img.get('title'))\n",
    "                    page_image.append(soup.select('#content > table')[0].find_all('a')[-2-(len(soup.select('#content > table')[0].find_all('a'))//2-1-i)*2].img.get('src'))\n",
    "                    title.append(soup.select('#content > table')[0].find_all('a')[-2-(len(soup.select('#content > table')[0].find_all('a'))//2-1-i)*2].img.get('alt'))\n",
    "                    page_link.append('https://comic.naver.com'+soup.select('#content > table')[0].find_all('a')[-2-(len(soup.select('#content > table')[0].find_all('a'))//2-1-i)*2].get('href'))\n",
    "                    count = 1+count\n",
    "            if count==10:\n",
    "                break\n",
    "    if count ==9:\n",
    "        name.pop()\n",
    "        title.pop()\n",
    "        page_link.pop()\n",
    "        page_image.pop()\n",
    "    # 찾은 정보 데이터 프레임 안에 넣기\n",
    "    image_table_temp = pd.DataFrame(name).rename(columns={0:'name'})\n",
    "    image_table_temp['page_image'] = page_image\n",
    "    image_table_temp['title'] = title\n",
    "    image_table_temp['page_link'] = page_link\n",
    "    if link == titleId[0]:\n",
    "        image_table = image_table_temp\n",
    "\n",
    "    else:\n",
    "        image_table = pd.concat([image_table,image_table_temp], axis=0)\n",
    "    print(count, name[0])\n",
    "    # 오래된거 10화 가져오기\n",
    "    if count ==10:\n",
    "        #크롤링\n",
    "        url = create_old_url(link)\n",
    "        request = Request(url)\n",
    "        request.get_method = lambda: 'GET'\n",
    "        response_body = urlopen(request).read()\n",
    "        soup = BeautifulSoup(response_body, 'html.parser')\n",
    "        rough = soup.select('#content > div.comicinfo')\n",
    "        #가져올 변수 초기화\n",
    "        name=[]\n",
    "        page_image=[]\n",
    "        title=[]\n",
    "        page_link=[]\n",
    "        count = 0\n",
    "        \n",
    "        # 크롤링으로 표의 줄 갯수 확인해서 반복\n",
    "        # AD 배너라면 PASS\n",
    "        while 1:\n",
    "        # 마지막 페이지에서 가져오기\n",
    "            for i in np.arange(len(soup.select('#content > table')[0].find_all('a'))//2):\n",
    "                if soup.select('#content > table')[0].find_all('a')[-2-i*2].img.get('alt')=='AD 배너':\n",
    "                    pass\n",
    "                else:\n",
    "                    name.append(rough[0].img.get('title'))\n",
    "                    page_image.append(soup.select('#content > table')[0].find_all('a')[-2-i*2].img.get('src'))\n",
    "                    title.append(soup.select('#content > table')[0].find_all('a')[-2-i*2].img.get('alt'))\n",
    "                    page_link.append('https://comic.naver.com'+soup.select('#content > table')[0].find_all('a')[-2-i*2].get('href'))\n",
    "                    count =1+count\n",
    "            # 마지막에서 앞의 페이지에서 가져오기\n",
    "            url2 = 'https://comic.naver.com'+soup.select('#content > div.paginate > div')[0].find_all('a', class_='page')[-1].get('href')\n",
    "            request = Request(url2)\n",
    "            request.get_method = lambda: 'GET'\n",
    "            response_body = urlopen(request).read()\n",
    "            soup = BeautifulSoup(response_body, 'html.parser')\n",
    "            for i in np.arange(len(soup.select('#content > table')[0].find_all('a'))//2):\n",
    "                if count==10:\n",
    "                    break\n",
    "                name.append(rough[0].img.get('title'))\n",
    "                page_image.append(soup.select('#content > table')[0].find_all('a')[-2-i*2].img.get('src'))\n",
    "                title.append(soup.select('#content > table')[0].find_all('a')[-2-i*2].img.get('alt'))\n",
    "                page_link.append('https://comic.naver.com'+soup.select('#content > table')[0].find_all('a')[-2-i*2].get('href'))\n",
    "                count = 1+count\n",
    "            if count==10:\n",
    "                break\n",
    "\n",
    "        # 찾은 정보 데이터 프레임 안에 넣기\n",
    "        image_table_temp = pd.DataFrame(name).rename(columns={0:'name'})\n",
    "        image_table_temp['page_image'] = page_image\n",
    "        image_table_temp['title'] = title\n",
    "        image_table_temp['page_link'] = page_link\n",
    "        image_table = pd.concat([image_table,image_table_temp], axis=0)\n",
    "    else:\n",
    "        print('10화 이하 웹툰입니다.', name[0])\n",
    "    "
   ],
   "outputs": [
    {
     "output_type": "stream",
     "name": "stdout",
     "text": [
      "url 3부 85화 1\n",
      "url 3부 84화 2\n",
      "url 3부 83화 3\n",
      "url 3부 82화 4\n",
      "url 3부 81화 5\n",
      "url 3부 80화 6\n",
      "url 3부 79화 7\n",
      "url 3부 78화 8\n",
      "url 3부 77화 9\n",
      "url2 AD 배너 0\n",
      "url2 3부 76화 1\n",
      "url2 3부 75화 2\n",
      "10 신의 탑\n"
     ]
    }
   ],
   "metadata": {}
  },
  {
   "cell_type": "code",
   "execution_count": 193,
   "source": [
    "url2"
   ],
   "outputs": [
    {
     "output_type": "execute_result",
     "data": {
      "text/plain": [
       "'https://comic.naver.com/webtoon/list?titleId=183559&page=2'"
      ]
     },
     "metadata": {},
     "execution_count": 193
    }
   ],
   "metadata": {}
  },
  {
   "cell_type": "code",
   "execution_count": 195,
   "source": [
    "soup.select('#content > table')[0].find_all('a')[-(len(soup.select('#content > table')[0].find_all('a'))//2-1-i)*2].img.get('alt')"
   ],
   "outputs": [
    {
     "output_type": "execute_result",
     "data": {
      "text/plain": [
       "'3부 75화'"
      ]
     },
     "metadata": {},
     "execution_count": 195
    }
   ],
   "metadata": {}
  },
  {
   "cell_type": "code",
   "execution_count": 194,
   "source": [
    "soup.select('#content > table')[0].find_all('a')[-2-(len(soup.select('#content > table')[0].find_all('a'))//2-1-i)*2].img.get('alt')"
   ],
   "outputs": [
    {
     "output_type": "execute_result",
     "data": {
      "text/plain": [
       "'3부 76화'"
      ]
     },
     "metadata": {},
     "execution_count": 194
    }
   ],
   "metadata": {}
  },
  {
   "cell_type": "code",
   "execution_count": 202,
   "source": [
    "image_table"
   ],
   "outputs": [
    {
     "output_type": "execute_result",
     "data": {
      "text/html": [
       "<div>\n",
       "<style scoped>\n",
       "    .dataframe tbody tr th:only-of-type {\n",
       "        vertical-align: middle;\n",
       "    }\n",
       "\n",
       "    .dataframe tbody tr th {\n",
       "        vertical-align: top;\n",
       "    }\n",
       "\n",
       "    .dataframe thead th {\n",
       "        text-align: right;\n",
       "    }\n",
       "</style>\n",
       "<table border=\"1\" class=\"dataframe\">\n",
       "  <thead>\n",
       "    <tr style=\"text-align: right;\">\n",
       "      <th></th>\n",
       "      <th>name</th>\n",
       "      <th>page_image</th>\n",
       "      <th>title</th>\n",
       "      <th>page_link</th>\n",
       "    </tr>\n",
       "  </thead>\n",
       "  <tbody>\n",
       "    <tr>\n",
       "      <th>0</th>\n",
       "      <td>신의 탑</td>\n",
       "      <td>https://shared-comic.pstatic.net/thumb/webtoon...</td>\n",
       "      <td>3부 85화</td>\n",
       "      <td>https://comic.naver.com/webtoon/detail?titleId...</td>\n",
       "    </tr>\n",
       "    <tr>\n",
       "      <th>1</th>\n",
       "      <td>신의 탑</td>\n",
       "      <td>https://shared-comic.pstatic.net/thumb/webtoon...</td>\n",
       "      <td>3부 84화</td>\n",
       "      <td>https://comic.naver.com/webtoon/detail?titleId...</td>\n",
       "    </tr>\n",
       "    <tr>\n",
       "      <th>2</th>\n",
       "      <td>신의 탑</td>\n",
       "      <td>https://shared-comic.pstatic.net/thumb/webtoon...</td>\n",
       "      <td>3부 83화</td>\n",
       "      <td>https://comic.naver.com/webtoon/detail?titleId...</td>\n",
       "    </tr>\n",
       "    <tr>\n",
       "      <th>3</th>\n",
       "      <td>신의 탑</td>\n",
       "      <td>https://shared-comic.pstatic.net/thumb/webtoon...</td>\n",
       "      <td>3부 82화</td>\n",
       "      <td>https://comic.naver.com/webtoon/detail?titleId...</td>\n",
       "    </tr>\n",
       "    <tr>\n",
       "      <th>4</th>\n",
       "      <td>신의 탑</td>\n",
       "      <td>https://shared-comic.pstatic.net/thumb/webtoon...</td>\n",
       "      <td>3부 81화</td>\n",
       "      <td>https://comic.naver.com/webtoon/detail?titleId...</td>\n",
       "    </tr>\n",
       "    <tr>\n",
       "      <th>5</th>\n",
       "      <td>신의 탑</td>\n",
       "      <td>https://shared-comic.pstatic.net/thumb/webtoon...</td>\n",
       "      <td>3부 80화</td>\n",
       "      <td>https://comic.naver.com/webtoon/detail?titleId...</td>\n",
       "    </tr>\n",
       "    <tr>\n",
       "      <th>6</th>\n",
       "      <td>신의 탑</td>\n",
       "      <td>https://shared-comic.pstatic.net/thumb/webtoon...</td>\n",
       "      <td>3부 79화</td>\n",
       "      <td>https://comic.naver.com/webtoon/detail?titleId...</td>\n",
       "    </tr>\n",
       "    <tr>\n",
       "      <th>7</th>\n",
       "      <td>신의 탑</td>\n",
       "      <td>https://shared-comic.pstatic.net/thumb/webtoon...</td>\n",
       "      <td>3부 78화</td>\n",
       "      <td>https://comic.naver.com/webtoon/detail?titleId...</td>\n",
       "    </tr>\n",
       "    <tr>\n",
       "      <th>8</th>\n",
       "      <td>신의 탑</td>\n",
       "      <td>https://shared-comic.pstatic.net/thumb/webtoon...</td>\n",
       "      <td>3부 77화</td>\n",
       "      <td>https://comic.naver.com/webtoon/detail?titleId...</td>\n",
       "    </tr>\n",
       "    <tr>\n",
       "      <th>9</th>\n",
       "      <td>신의 탑</td>\n",
       "      <td>https://shared-comic.pstatic.net/thumb/webtoon...</td>\n",
       "      <td>3부 76화</td>\n",
       "      <td>https://comic.naver.com/webtoon/detail?titleId...</td>\n",
       "    </tr>\n",
       "  </tbody>\n",
       "</table>\n",
       "</div>"
      ],
      "text/plain": [
       "   name                                         page_image   title  \\\n",
       "0  신의 탑  https://shared-comic.pstatic.net/thumb/webtoon...  3부 85화   \n",
       "1  신의 탑  https://shared-comic.pstatic.net/thumb/webtoon...  3부 84화   \n",
       "2  신의 탑  https://shared-comic.pstatic.net/thumb/webtoon...  3부 83화   \n",
       "3  신의 탑  https://shared-comic.pstatic.net/thumb/webtoon...  3부 82화   \n",
       "4  신의 탑  https://shared-comic.pstatic.net/thumb/webtoon...  3부 81화   \n",
       "5  신의 탑  https://shared-comic.pstatic.net/thumb/webtoon...  3부 80화   \n",
       "6  신의 탑  https://shared-comic.pstatic.net/thumb/webtoon...  3부 79화   \n",
       "7  신의 탑  https://shared-comic.pstatic.net/thumb/webtoon...  3부 78화   \n",
       "8  신의 탑  https://shared-comic.pstatic.net/thumb/webtoon...  3부 77화   \n",
       "9  신의 탑  https://shared-comic.pstatic.net/thumb/webtoon...  3부 76화   \n",
       "\n",
       "                                           page_link  \n",
       "0  https://comic.naver.com/webtoon/detail?titleId...  \n",
       "1  https://comic.naver.com/webtoon/detail?titleId...  \n",
       "2  https://comic.naver.com/webtoon/detail?titleId...  \n",
       "3  https://comic.naver.com/webtoon/detail?titleId...  \n",
       "4  https://comic.naver.com/webtoon/detail?titleId...  \n",
       "5  https://comic.naver.com/webtoon/detail?titleId...  \n",
       "6  https://comic.naver.com/webtoon/detail?titleId...  \n",
       "7  https://comic.naver.com/webtoon/detail?titleId...  \n",
       "8  https://comic.naver.com/webtoon/detail?titleId...  \n",
       "9  https://comic.naver.com/webtoon/detail?titleId...  "
      ]
     },
     "metadata": {},
     "execution_count": 202
    }
   ],
   "metadata": {}
  },
  {
   "cell_type": "code",
   "execution_count": 175,
   "source": [
    "image_table.groupby('name').count().sort_values('title').loc[image_table.groupby('name').count().sort_values('title')['title']==19]"
   ],
   "outputs": [
    {
     "output_type": "execute_result",
     "data": {
      "text/html": [
       "<div>\n",
       "<style scoped>\n",
       "    .dataframe tbody tr th:only-of-type {\n",
       "        vertical-align: middle;\n",
       "    }\n",
       "\n",
       "    .dataframe tbody tr th {\n",
       "        vertical-align: top;\n",
       "    }\n",
       "\n",
       "    .dataframe thead th {\n",
       "        text-align: right;\n",
       "    }\n",
       "</style>\n",
       "<table border=\"1\" class=\"dataframe\">\n",
       "  <thead>\n",
       "    <tr style=\"text-align: right;\">\n",
       "      <th></th>\n",
       "      <th>page_image</th>\n",
       "      <th>title</th>\n",
       "      <th>page_link</th>\n",
       "    </tr>\n",
       "    <tr>\n",
       "      <th>name</th>\n",
       "      <th></th>\n",
       "      <th></th>\n",
       "      <th></th>\n",
       "    </tr>\n",
       "  </thead>\n",
       "  <tbody>\n",
       "    <tr>\n",
       "      <th>선배, 그 립스틱 바르지 마요</th>\n",
       "      <td>19</td>\n",
       "      <td>19</td>\n",
       "      <td>19</td>\n",
       "    </tr>\n",
       "    <tr>\n",
       "      <th>하우스키퍼</th>\n",
       "      <td>19</td>\n",
       "      <td>19</td>\n",
       "      <td>19</td>\n",
       "    </tr>\n",
       "    <tr>\n",
       "      <th>하루만 네가 되고 싶어</th>\n",
       "      <td>19</td>\n",
       "      <td>19</td>\n",
       "      <td>19</td>\n",
       "    </tr>\n",
       "    <tr>\n",
       "      <th>순정말고 순종</th>\n",
       "      <td>19</td>\n",
       "      <td>19</td>\n",
       "      <td>19</td>\n",
       "    </tr>\n",
       "    <tr>\n",
       "      <th>숲속의 담</th>\n",
       "      <td>19</td>\n",
       "      <td>19</td>\n",
       "      <td>19</td>\n",
       "    </tr>\n",
       "    <tr>\n",
       "      <th>...</th>\n",
       "      <td>...</td>\n",
       "      <td>...</td>\n",
       "      <td>...</td>\n",
       "    </tr>\n",
       "    <tr>\n",
       "      <th>별이삼샵</th>\n",
       "      <td>19</td>\n",
       "      <td>19</td>\n",
       "      <td>19</td>\n",
       "    </tr>\n",
       "    <tr>\n",
       "      <th>노답소녀</th>\n",
       "      <td>19</td>\n",
       "      <td>19</td>\n",
       "      <td>19</td>\n",
       "    </tr>\n",
       "    <tr>\n",
       "      <th>남주의 첫날밤을 가져버렸다</th>\n",
       "      <td>19</td>\n",
       "      <td>19</td>\n",
       "      <td>19</td>\n",
       "    </tr>\n",
       "    <tr>\n",
       "      <th>남자주인공의 여자사람친구입니다</th>\n",
       "      <td>19</td>\n",
       "      <td>19</td>\n",
       "      <td>19</td>\n",
       "    </tr>\n",
       "    <tr>\n",
       "      <th>노곤하개</th>\n",
       "      <td>19</td>\n",
       "      <td>19</td>\n",
       "      <td>19</td>\n",
       "    </tr>\n",
       "  </tbody>\n",
       "</table>\n",
       "<p>112 rows × 3 columns</p>\n",
       "</div>"
      ],
      "text/plain": [
       "                  page_image  title  page_link\n",
       "name                                          \n",
       "선배, 그 립스틱 바르지 마요          19     19         19\n",
       "하우스키퍼                     19     19         19\n",
       "하루만 네가 되고 싶어              19     19         19\n",
       "순정말고 순종                   19     19         19\n",
       "숲속의 담                     19     19         19\n",
       "...                      ...    ...        ...\n",
       "별이삼샵                      19     19         19\n",
       "노답소녀                      19     19         19\n",
       "남주의 첫날밤을 가져버렸다            19     19         19\n",
       "남자주인공의 여자사람친구입니다          19     19         19\n",
       "노곤하개                      19     19         19\n",
       "\n",
       "[112 rows x 3 columns]"
      ]
     },
     "metadata": {},
     "execution_count": 175
    }
   ],
   "metadata": {}
  },
  {
   "cell_type": "code",
   "execution_count": null,
   "source": [],
   "outputs": [],
   "metadata": {}
  },
  {
   "cell_type": "code",
   "execution_count": 148,
   "source": [
    "after = image_table.groupby('name').count().index.values"
   ],
   "outputs": [],
   "metadata": {}
  },
  {
   "cell_type": "code",
   "execution_count": 171,
   "source": [
    "image_table.drop_duplicates('page_link',inplace=True)"
   ],
   "outputs": [],
   "metadata": {}
  },
  {
   "cell_type": "code",
   "execution_count": 172,
   "source": [
    "image_table"
   ],
   "outputs": [
    {
     "output_type": "execute_result",
     "data": {
      "text/html": [
       "<div>\n",
       "<style scoped>\n",
       "    .dataframe tbody tr th:only-of-type {\n",
       "        vertical-align: middle;\n",
       "    }\n",
       "\n",
       "    .dataframe tbody tr th {\n",
       "        vertical-align: top;\n",
       "    }\n",
       "\n",
       "    .dataframe thead th {\n",
       "        text-align: right;\n",
       "    }\n",
       "</style>\n",
       "<table border=\"1\" class=\"dataframe\">\n",
       "  <thead>\n",
       "    <tr style=\"text-align: right;\">\n",
       "      <th></th>\n",
       "      <th>name</th>\n",
       "      <th>page_image</th>\n",
       "      <th>title</th>\n",
       "      <th>page_link</th>\n",
       "    </tr>\n",
       "  </thead>\n",
       "  <tbody>\n",
       "    <tr>\n",
       "      <th>0</th>\n",
       "      <td>참교육</td>\n",
       "      <td>https://shared-comic.pstatic.net/thumb/webtoon...</td>\n",
       "      <td>45화</td>\n",
       "      <td>https://comic.naver.com/webtoon/detail?titleId...</td>\n",
       "    </tr>\n",
       "    <tr>\n",
       "      <th>1</th>\n",
       "      <td>참교육</td>\n",
       "      <td>https://shared-comic.pstatic.net/thumb/webtoon...</td>\n",
       "      <td>44화</td>\n",
       "      <td>https://comic.naver.com/webtoon/detail?titleId...</td>\n",
       "    </tr>\n",
       "    <tr>\n",
       "      <th>2</th>\n",
       "      <td>참교육</td>\n",
       "      <td>https://shared-comic.pstatic.net/thumb/webtoon...</td>\n",
       "      <td>43화</td>\n",
       "      <td>https://comic.naver.com/webtoon/detail?titleId...</td>\n",
       "    </tr>\n",
       "    <tr>\n",
       "      <th>3</th>\n",
       "      <td>참교육</td>\n",
       "      <td>https://shared-comic.pstatic.net/thumb/webtoon...</td>\n",
       "      <td>42화</td>\n",
       "      <td>https://comic.naver.com/webtoon/detail?titleId...</td>\n",
       "    </tr>\n",
       "    <tr>\n",
       "      <th>4</th>\n",
       "      <td>참교육</td>\n",
       "      <td>https://shared-comic.pstatic.net/thumb/webtoon...</td>\n",
       "      <td>41화</td>\n",
       "      <td>https://comic.naver.com/webtoon/detail?titleId...</td>\n",
       "    </tr>\n",
       "    <tr>\n",
       "      <th>...</th>\n",
       "      <td>...</td>\n",
       "      <td>...</td>\n",
       "      <td>...</td>\n",
       "      <td>...</td>\n",
       "    </tr>\n",
       "    <tr>\n",
       "      <th>5</th>\n",
       "      <td>합격시켜주세용</td>\n",
       "      <td>https://shared-comic.pstatic.net/thumb/webtoon...</td>\n",
       "      <td>6화</td>\n",
       "      <td>https://comic.naver.com/webtoon/detail?titleId...</td>\n",
       "    </tr>\n",
       "    <tr>\n",
       "      <th>6</th>\n",
       "      <td>합격시켜주세용</td>\n",
       "      <td>https://shared-comic.pstatic.net/thumb/webtoon...</td>\n",
       "      <td>7화</td>\n",
       "      <td>https://comic.naver.com/webtoon/detail?titleId...</td>\n",
       "    </tr>\n",
       "    <tr>\n",
       "      <th>7</th>\n",
       "      <td>합격시켜주세용</td>\n",
       "      <td>https://shared-comic.pstatic.net/thumb/webtoon...</td>\n",
       "      <td>8화</td>\n",
       "      <td>https://comic.naver.com/webtoon/detail?titleId...</td>\n",
       "    </tr>\n",
       "    <tr>\n",
       "      <th>8</th>\n",
       "      <td>합격시켜주세용</td>\n",
       "      <td>https://shared-comic.pstatic.net/thumb/webtoon...</td>\n",
       "      <td>9화</td>\n",
       "      <td>https://comic.naver.com/webtoon/detail?titleId...</td>\n",
       "    </tr>\n",
       "    <tr>\n",
       "      <th>9</th>\n",
       "      <td>합격시켜주세용</td>\n",
       "      <td>https://shared-comic.pstatic.net/thumb/webtoon...</td>\n",
       "      <td>10화</td>\n",
       "      <td>https://comic.naver.com/webtoon/detail?titleId...</td>\n",
       "    </tr>\n",
       "  </tbody>\n",
       "</table>\n",
       "<p>7801 rows × 4 columns</p>\n",
       "</div>"
      ],
      "text/plain": [
       "       name                                         page_image title  \\\n",
       "0       참교육  https://shared-comic.pstatic.net/thumb/webtoon...   45화   \n",
       "1       참교육  https://shared-comic.pstatic.net/thumb/webtoon...   44화   \n",
       "2       참교육  https://shared-comic.pstatic.net/thumb/webtoon...   43화   \n",
       "3       참교육  https://shared-comic.pstatic.net/thumb/webtoon...   42화   \n",
       "4       참교육  https://shared-comic.pstatic.net/thumb/webtoon...   41화   \n",
       "..      ...                                                ...   ...   \n",
       "5   합격시켜주세용  https://shared-comic.pstatic.net/thumb/webtoon...    6화   \n",
       "6   합격시켜주세용  https://shared-comic.pstatic.net/thumb/webtoon...    7화   \n",
       "7   합격시켜주세용  https://shared-comic.pstatic.net/thumb/webtoon...    8화   \n",
       "8   합격시켜주세용  https://shared-comic.pstatic.net/thumb/webtoon...    9화   \n",
       "9   합격시켜주세용  https://shared-comic.pstatic.net/thumb/webtoon...   10화   \n",
       "\n",
       "                                            page_link  \n",
       "0   https://comic.naver.com/webtoon/detail?titleId...  \n",
       "1   https://comic.naver.com/webtoon/detail?titleId...  \n",
       "2   https://comic.naver.com/webtoon/detail?titleId...  \n",
       "3   https://comic.naver.com/webtoon/detail?titleId...  \n",
       "4   https://comic.naver.com/webtoon/detail?titleId...  \n",
       "..                                                ...  \n",
       "5   https://comic.naver.com/webtoon/detail?titleId...  \n",
       "6   https://comic.naver.com/webtoon/detail?titleId...  \n",
       "7   https://comic.naver.com/webtoon/detail?titleId...  \n",
       "8   https://comic.naver.com/webtoon/detail?titleId...  \n",
       "9   https://comic.naver.com/webtoon/detail?titleId...  \n",
       "\n",
       "[7801 rows x 4 columns]"
      ]
     },
     "metadata": {},
     "execution_count": 172
    }
   ],
   "metadata": {}
  },
  {
   "cell_type": "code",
   "execution_count": 173,
   "source": [
    "image_table.to_csv('image_table_3.csv',index=False)"
   ],
   "outputs": [],
   "metadata": {}
  },
  {
   "cell_type": "code",
   "execution_count": 174,
   "source": [
    "check = pd.read_csv('image_table_3.csv')"
   ],
   "outputs": [],
   "metadata": {}
  },
  {
   "cell_type": "code",
   "execution_count": 149,
   "source": [
    "check.groupby('name').count().plot.hist()"
   ],
   "outputs": [
    {
     "output_type": "execute_result",
     "data": {
      "text/plain": [
       "<AxesSubplot:ylabel='Frequency'>"
      ]
     },
     "metadata": {},
     "execution_count": 149
    },
    {
     "output_type": "display_data",
     "data": {
      "image/png": "[encoded data removed]",
      "text/plain": [
       "<Figure size 432x288 with 1 Axes>"
      ]
     },
     "metadata": {
      "needs_background": "light"
     }
    }
   ],
   "metadata": {}
  },
  {
   "cell_type": "code",
   "execution_count": null,
   "source": [
    "check"
   ],
   "outputs": [
    {
     "output_type": "execute_result",
     "data": {
      "text/html": [
       "<div>\n",
       "<style scoped>\n",
       "    .dataframe tbody tr th:only-of-type {\n",
       "        vertical-align: middle;\n",
       "    }\n",
       "\n",
       "    .dataframe tbody tr th {\n",
       "        vertical-align: top;\n",
       "    }\n",
       "\n",
       "    .dataframe thead th {\n",
       "        text-align: right;\n",
       "    }\n",
       "</style>\n",
       "<table border=\"1\" class=\"dataframe\">\n",
       "  <thead>\n",
       "    <tr style=\"text-align: right;\">\n",
       "      <th></th>\n",
       "      <th>name</th>\n",
       "      <th>page_image</th>\n",
       "      <th>title</th>\n",
       "      <th>page_link</th>\n",
       "    </tr>\n",
       "  </thead>\n",
       "  <tbody>\n",
       "    <tr>\n",
       "      <th>0</th>\n",
       "      <td>참교육</td>\n",
       "      <td>https://shared-comic.pstatic.net/thumb/webtoon...</td>\n",
       "      <td>37화</td>\n",
       "      <td>https://comic.naver.com/webtoon/detail?titleId...</td>\n",
       "    </tr>\n",
       "    <tr>\n",
       "      <th>1</th>\n",
       "      <td>참교육</td>\n",
       "      <td>https://shared-comic.pstatic.net/thumb/webtoon...</td>\n",
       "      <td>38화</td>\n",
       "      <td>https://comic.naver.com/webtoon/detail?titleId...</td>\n",
       "    </tr>\n",
       "    <tr>\n",
       "      <th>2</th>\n",
       "      <td>참교육</td>\n",
       "      <td>https://shared-comic.pstatic.net/thumb/webtoon...</td>\n",
       "      <td>39화</td>\n",
       "      <td>https://comic.naver.com/webtoon/detail?titleId...</td>\n",
       "    </tr>\n",
       "    <tr>\n",
       "      <th>3</th>\n",
       "      <td>참교육</td>\n",
       "      <td>https://shared-comic.pstatic.net/thumb/webtoon...</td>\n",
       "      <td>40화</td>\n",
       "      <td>https://comic.naver.com/webtoon/detail?titleId...</td>\n",
       "    </tr>\n",
       "    <tr>\n",
       "      <th>4</th>\n",
       "      <td>참교육</td>\n",
       "      <td>https://shared-comic.pstatic.net/thumb/webtoon...</td>\n",
       "      <td>41화</td>\n",
       "      <td>https://comic.naver.com/webtoon/detail?titleId...</td>\n",
       "    </tr>\n",
       "    <tr>\n",
       "      <th>...</th>\n",
       "      <td>...</td>\n",
       "      <td>...</td>\n",
       "      <td>...</td>\n",
       "      <td>...</td>\n",
       "    </tr>\n",
       "    <tr>\n",
       "      <th>10006</th>\n",
       "      <td>합격시켜주세용</td>\n",
       "      <td>https://shared-comic.pstatic.net/thumb/webtoon...</td>\n",
       "      <td>6화</td>\n",
       "      <td>https://comic.naver.com/webtoon/detail?titleId...</td>\n",
       "    </tr>\n",
       "    <tr>\n",
       "      <th>10007</th>\n",
       "      <td>합격시켜주세용</td>\n",
       "      <td>https://shared-comic.pstatic.net/thumb/webtoon...</td>\n",
       "      <td>7화</td>\n",
       "      <td>https://comic.naver.com/webtoon/detail?titleId...</td>\n",
       "    </tr>\n",
       "    <tr>\n",
       "      <th>10008</th>\n",
       "      <td>합격시켜주세용</td>\n",
       "      <td>https://shared-comic.pstatic.net/thumb/webtoon...</td>\n",
       "      <td>8화</td>\n",
       "      <td>https://comic.naver.com/webtoon/detail?titleId...</td>\n",
       "    </tr>\n",
       "    <tr>\n",
       "      <th>10009</th>\n",
       "      <td>합격시켜주세용</td>\n",
       "      <td>https://shared-comic.pstatic.net/thumb/webtoon...</td>\n",
       "      <td>9화</td>\n",
       "      <td>https://comic.naver.com/webtoon/detail?titleId...</td>\n",
       "    </tr>\n",
       "    <tr>\n",
       "      <th>10010</th>\n",
       "      <td>합격시켜주세용</td>\n",
       "      <td>https://shared-comic.pstatic.net/thumb/webtoon...</td>\n",
       "      <td>10화</td>\n",
       "      <td>https://comic.naver.com/webtoon/detail?titleId...</td>\n",
       "    </tr>\n",
       "  </tbody>\n",
       "</table>\n",
       "<p>10011 rows × 4 columns</p>\n",
       "</div>"
      ],
      "text/plain": [
       "          name                                         page_image title  \\\n",
       "0          참교육  https://shared-comic.pstatic.net/thumb/webtoon...   37화   \n",
       "1          참교육  https://shared-comic.pstatic.net/thumb/webtoon...   38화   \n",
       "2          참교육  https://shared-comic.pstatic.net/thumb/webtoon...   39화   \n",
       "3          참교육  https://shared-comic.pstatic.net/thumb/webtoon...   40화   \n",
       "4          참교육  https://shared-comic.pstatic.net/thumb/webtoon...   41화   \n",
       "...        ...                                                ...   ...   \n",
       "10006  합격시켜주세용  https://shared-comic.pstatic.net/thumb/webtoon...    6화   \n",
       "10007  합격시켜주세용  https://shared-comic.pstatic.net/thumb/webtoon...    7화   \n",
       "10008  합격시켜주세용  https://shared-comic.pstatic.net/thumb/webtoon...    8화   \n",
       "10009  합격시켜주세용  https://shared-comic.pstatic.net/thumb/webtoon...    9화   \n",
       "10010  합격시켜주세용  https://shared-comic.pstatic.net/thumb/webtoon...   10화   \n",
       "\n",
       "                                               page_link  \n",
       "0      https://comic.naver.com/webtoon/detail?titleId...  \n",
       "1      https://comic.naver.com/webtoon/detail?titleId...  \n",
       "2      https://comic.naver.com/webtoon/detail?titleId...  \n",
       "3      https://comic.naver.com/webtoon/detail?titleId...  \n",
       "4      https://comic.naver.com/webtoon/detail?titleId...  \n",
       "...                                                  ...  \n",
       "10006  https://comic.naver.com/webtoon/detail?titleId...  \n",
       "10007  https://comic.naver.com/webtoon/detail?titleId...  \n",
       "10008  https://comic.naver.com/webtoon/detail?titleId...  \n",
       "10009  https://comic.naver.com/webtoon/detail?titleId...  \n",
       "10010  https://comic.naver.com/webtoon/detail?titleId...  \n",
       "\n",
       "[10011 rows x 4 columns]"
      ]
     },
     "metadata": {},
     "execution_count": 153
    }
   ],
   "metadata": {}
  },
  {
   "cell_type": "code",
   "execution_count": 150,
   "source": [
    "dff = list(set(before)- set(after))"
   ],
   "outputs": [],
   "metadata": {}
  },
  {
   "cell_type": "code",
   "execution_count": 153,
   "source": [
    "dff"
   ],
   "outputs": [
    {
     "output_type": "execute_result",
     "data": {
      "text/plain": [
       "[]"
      ]
     },
     "metadata": {},
     "execution_count": 153
    }
   ],
   "metadata": {}
  },
  {
   "cell_type": "code",
   "execution_count": null,
   "source": [],
   "outputs": [],
   "metadata": {}
  }
 ],
 "metadata": {
  "orig_nbformat": 4,
  "language_info": {
   "name": "python",
   "version": "3.8.8",
   "mimetype": "text/x-python",
   "codemirror_mode": {
    "name": "ipython",
    "version": 3
   },
   "pygments_lexer": "ipython3",
   "nbconvert_exporter": "python",
   "file_extension": ".py"
  },
  "kernelspec": {
   "name": "python3",
   "display_name": "Python 3.8.8 64-bit ('base': conda)"
  },
  "interpreter": {
   "hash": "e32aa2a74c3e20f73d0da94c1be63f7d806e5a28e2ae1d4b9b0270ef66b592ed"
  }
 },
 "nbformat": 4,
 "nbformat_minor": 2
}