{
 "cells": [
  {
   "cell_type": "code",
   "execution_count": 2,
   "source": [
    "import pandas as pd"
   ],
   "outputs": [],
   "metadata": {}
  },
  {
   "cell_type": "code",
   "execution_count": 3,
   "source": [
    "check= pd.read_csv('image_table.csv')"
   ],
   "outputs": [],
   "metadata": {}
  },
  {
   "cell_type": "code",
   "execution_count": 6,
   "source": [
    "check.groupby('name').count().sort_values('page_image')"
   ],
   "outputs": [
    {
     "output_type": "execute_result",
     "data": {
      "text/html": [
       "<div>\n",
       "<style scoped>\n",
       "    .dataframe tbody tr th:only-of-type {\n",
       "        vertical-align: middle;\n",
       "    }\n",
       "\n",
       "    .dataframe tbody tr th {\n",
       "        vertical-align: top;\n",
       "    }\n",
       "\n",
       "    .dataframe thead th {\n",
       "        text-align: right;\n",
       "    }\n",
       "</style>\n",
       "<table border=\"1\" class=\"dataframe\">\n",
       "  <thead>\n",
       "    <tr style=\"text-align: right;\">\n",
       "      <th></th>\n",
       "      <th>page_image</th>\n",
       "      <th>title</th>\n",
       "      <th>page_link</th>\n",
       "    </tr>\n",
       "    <tr>\n",
       "      <th>name</th>\n",
       "      <th></th>\n",
       "      <th></th>\n",
       "      <th></th>\n",
       "    </tr>\n",
       "  </thead>\n",
       "  <tbody>\n",
       "    <tr>\n",
       "      <th>교환학생</th>\n",
       "      <td>1</td>\n",
       "      <td>1</td>\n",
       "      <td>1</td>\n",
       "    </tr>\n",
       "    <tr>\n",
       "      <th>다름이 아니라</th>\n",
       "      <td>1</td>\n",
       "      <td>1</td>\n",
       "      <td>1</td>\n",
       "    </tr>\n",
       "    <tr>\n",
       "      <th>시에라</th>\n",
       "      <td>1</td>\n",
       "      <td>1</td>\n",
       "      <td>1</td>\n",
       "    </tr>\n",
       "    <tr>\n",
       "      <th>길티액스</th>\n",
       "      <td>1</td>\n",
       "      <td>1</td>\n",
       "      <td>1</td>\n",
       "    </tr>\n",
       "    <tr>\n",
       "      <th>약초마을 연쇄살초사건</th>\n",
       "      <td>1</td>\n",
       "      <td>1</td>\n",
       "      <td>1</td>\n",
       "    </tr>\n",
       "    <tr>\n",
       "      <th>...</th>\n",
       "      <td>...</td>\n",
       "      <td>...</td>\n",
       "      <td>...</td>\n",
       "    </tr>\n",
       "    <tr>\n",
       "      <th>사상최강</th>\n",
       "      <td>20</td>\n",
       "      <td>20</td>\n",
       "      <td>20</td>\n",
       "    </tr>\n",
       "    <tr>\n",
       "      <th>사막에 핀 달</th>\n",
       "      <td>20</td>\n",
       "      <td>20</td>\n",
       "      <td>20</td>\n",
       "    </tr>\n",
       "    <tr>\n",
       "      <th>사람의 조각</th>\n",
       "      <td>20</td>\n",
       "      <td>20</td>\n",
       "      <td>20</td>\n",
       "    </tr>\n",
       "    <tr>\n",
       "      <th>새벽 두 시의 신데렐라</th>\n",
       "      <td>20</td>\n",
       "      <td>20</td>\n",
       "      <td>20</td>\n",
       "    </tr>\n",
       "    <tr>\n",
       "      <th>힙한남자</th>\n",
       "      <td>20</td>\n",
       "      <td>20</td>\n",
       "      <td>20</td>\n",
       "    </tr>\n",
       "  </tbody>\n",
       "</table>\n",
       "<p>443 rows × 3 columns</p>\n",
       "</div>"
      ],
      "text/plain": [
       "              page_image  title  page_link\n",
       "name                                      \n",
       "교환학생                   1      1          1\n",
       "다름이 아니라                1      1          1\n",
       "시에라                    1      1          1\n",
       "길티액스                   1      1          1\n",
       "약초마을 연쇄살초사건            1      1          1\n",
       "...                  ...    ...        ...\n",
       "사상최강                  20     20         20\n",
       "사막에 핀 달               20     20         20\n",
       "사람의 조각                20     20         20\n",
       "새벽 두 시의 신데렐라          20     20         20\n",
       "힙한남자                  20     20         20\n",
       "\n",
       "[443 rows x 3 columns]"
      ]
     },
     "metadata": {},
     "execution_count": 6
    }
   ],
   "metadata": {}
  },
  {
   "cell_type": "code",
   "execution_count": 9,
   "source": [
    "check.groupby('name').count().plot.hist()"
   ],
   "outputs": [
    {
     "output_type": "execute_result",
     "data": {
      "text/plain": [
       "<AxesSubplot:ylabel='Frequency'>"
      ]
     },
     "metadata": {},
     "execution_count": 9
    },
    {
     "output_type": "display_data",
     "data": {
      "image/png": "[encoded data removed]",
      "text/plain": [
       "<Figure size 432x288 with 1 Axes>"
      ]
     },
     "metadata": {
      "needs_background": "light"
     }
    }
   ],
   "metadata": {}
  },
  {
   "cell_type": "code",
   "execution_count": 19,
   "source": [
    "checklist= check.groupby('name').count()['title'].loc[check.groupby('name').count()['title']<20].index.values"
   ],
   "outputs": [],
   "metadata": {}
  },
  {
   "cell_type": "code",
   "execution_count": 20,
   "source": [
    "len(checklist)"
   ],
   "outputs": [
    {
     "output_type": "execute_result",
     "data": {
      "text/plain": [
       "154"
      ]
     },
     "metadata": {},
     "execution_count": 20
    }
   ],
   "metadata": {}
  },
  {
   "cell_type": "code",
   "execution_count": 21,
   "source": [
    "i=0"
   ],
   "outputs": [],
   "metadata": {}
  },
  {
   "cell_type": "code",
   "execution_count": 30,
   "source": [
    "check.loc[check['name']==checklist[i]]\n"
   ],
   "outputs": [
    {
     "output_type": "execute_result",
     "data": {
      "text/html": [
       "<div>\n",
       "<style scoped>\n",
       "    .dataframe tbody tr th:only-of-type {\n",
       "        vertical-align: middle;\n",
       "    }\n",
       "\n",
       "    .dataframe tbody tr th {\n",
       "        vertical-align: top;\n",
       "    }\n",
       "\n",
       "    .dataframe thead th {\n",
       "        text-align: right;\n",
       "    }\n",
       "</style>\n",
       "<table border=\"1\" class=\"dataframe\">\n",
       "  <thead>\n",
       "    <tr style=\"text-align: right;\">\n",
       "      <th></th>\n",
       "      <th>name</th>\n",
       "      <th>page_image</th>\n",
       "      <th>title</th>\n",
       "      <th>page_link</th>\n",
       "    </tr>\n",
       "  </thead>\n",
       "  <tbody>\n",
       "    <tr>\n",
       "      <th>788</th>\n",
       "      <td>ㅋㄷㅋㄷ만화</td>\n",
       "      <td>https://shared-comic.pstatic.net/thumb/webtoon...</td>\n",
       "      <td>8화 : 함께 할 수 있어요</td>\n",
       "      <td>https://comic.naver.com/webtoon/detail?titleId...</td>\n",
       "    </tr>\n",
       "    <tr>\n",
       "      <th>789</th>\n",
       "      <td>ㅋㄷㅋㄷ만화</td>\n",
       "      <td>https://shared-comic.pstatic.net/thumb/webtoon...</td>\n",
       "      <td>7화 : 이게 왜 여기서 나와?</td>\n",
       "      <td>https://comic.naver.com/webtoon/detail?titleId...</td>\n",
       "    </tr>\n",
       "    <tr>\n",
       "      <th>790</th>\n",
       "      <td>ㅋㄷㅋㄷ만화</td>\n",
       "      <td>https://shared-comic.pstatic.net/thumb/webtoon...</td>\n",
       "      <td>6화 : 일상생활, 문제없어</td>\n",
       "      <td>https://comic.naver.com/webtoon/detail?titleId...</td>\n",
       "    </tr>\n",
       "    <tr>\n",
       "      <th>791</th>\n",
       "      <td>ㅋㄷㅋㄷ만화</td>\n",
       "      <td>https://shared-comic.pstatic.net/thumb/webtoon...</td>\n",
       "      <td>5화 : 익명+무료</td>\n",
       "      <td>https://comic.naver.com/webtoon/detail?titleId...</td>\n",
       "    </tr>\n",
       "    <tr>\n",
       "      <th>792</th>\n",
       "      <td>ㅋㄷㅋㄷ만화</td>\n",
       "      <td>https://shared-comic.pstatic.net/thumb/webtoon...</td>\n",
       "      <td>4화 : 다 내 얘기 같아</td>\n",
       "      <td>https://comic.naver.com/webtoon/detail?titleId...</td>\n",
       "    </tr>\n",
       "    <tr>\n",
       "      <th>793</th>\n",
       "      <td>ㅋㄷㅋㄷ만화</td>\n",
       "      <td>https://shared-comic.pstatic.net/thumb/webtoon...</td>\n",
       "      <td>3화 : 부끄러워 할 필요 없지</td>\n",
       "      <td>https://comic.naver.com/webtoon/detail?titleId...</td>\n",
       "    </tr>\n",
       "    <tr>\n",
       "      <th>794</th>\n",
       "      <td>ㅋㄷㅋㄷ만화</td>\n",
       "      <td>https://shared-comic.pstatic.net/thumb/webtoon...</td>\n",
       "      <td>2화 : 미리미리 준비의 중요성</td>\n",
       "      <td>https://comic.naver.com/webtoon/detail?titleId...</td>\n",
       "    </tr>\n",
       "    <tr>\n",
       "      <th>795</th>\n",
       "      <td>ㅋㄷㅋㄷ만화</td>\n",
       "      <td>https://shared-comic.pstatic.net/thumb/webtoon...</td>\n",
       "      <td>1화 : 당연한데도 어렵다고 생각하는 것</td>\n",
       "      <td>https://comic.naver.com/webtoon/detail?titleId...</td>\n",
       "    </tr>\n",
       "    <tr>\n",
       "      <th>796</th>\n",
       "      <td>ㅋㄷㅋㄷ만화</td>\n",
       "      <td>https://shared-comic.pstatic.net/thumb/webtoon...</td>\n",
       "      <td>건강한 부부생활 4화</td>\n",
       "      <td>https://comic.naver.com/webtoon/detail?titleId...</td>\n",
       "    </tr>\n",
       "    <tr>\n",
       "      <th>797</th>\n",
       "      <td>ㅋㄷㅋㄷ만화</td>\n",
       "      <td>https://shared-comic.pstatic.net/thumb/webtoon...</td>\n",
       "      <td>건강한 부부생활 2화</td>\n",
       "      <td>https://comic.naver.com/webtoon/detail?titleId...</td>\n",
       "    </tr>\n",
       "    <tr>\n",
       "      <th>798</th>\n",
       "      <td>ㅋㄷㅋㄷ만화</td>\n",
       "      <td>https://shared-comic.pstatic.net/thumb/webtoon...</td>\n",
       "      <td>건강한 부부생활 1화</td>\n",
       "      <td>https://comic.naver.com/webtoon/detail?titleId...</td>\n",
       "    </tr>\n",
       "    <tr>\n",
       "      <th>799</th>\n",
       "      <td>ㅋㄷㅋㄷ만화</td>\n",
       "      <td>https://shared-comic.pstatic.net/thumb/webtoon...</td>\n",
       "      <td>모리의 세포들 4화</td>\n",
       "      <td>https://comic.naver.com/webtoon/detail?titleId...</td>\n",
       "    </tr>\n",
       "    <tr>\n",
       "      <th>800</th>\n",
       "      <td>ㅋㄷㅋㄷ만화</td>\n",
       "      <td>https://shared-comic.pstatic.net/thumb/webtoon...</td>\n",
       "      <td>모리의 세포들 3화</td>\n",
       "      <td>https://comic.naver.com/webtoon/detail?titleId...</td>\n",
       "    </tr>\n",
       "    <tr>\n",
       "      <th>801</th>\n",
       "      <td>ㅋㄷㅋㄷ만화</td>\n",
       "      <td>https://shared-comic.pstatic.net/thumb/webtoon...</td>\n",
       "      <td>모리의 세포들 2화</td>\n",
       "      <td>https://comic.naver.com/webtoon/detail?titleId...</td>\n",
       "    </tr>\n",
       "    <tr>\n",
       "      <th>802</th>\n",
       "      <td>ㅋㄷㅋㄷ만화</td>\n",
       "      <td>https://shared-comic.pstatic.net/thumb/webtoon...</td>\n",
       "      <td>모리의 세포들 1화</td>\n",
       "      <td>https://comic.naver.com/webtoon/detail?titleId...</td>\n",
       "    </tr>\n",
       "    <tr>\n",
       "      <th>803</th>\n",
       "      <td>ㅋㄷㅋㄷ만화</td>\n",
       "      <td>https://shared-comic.pstatic.net/thumb/webtoon...</td>\n",
       "      <td>8화 함께 알아가자</td>\n",
       "      <td>https://comic.naver.com/webtoon/detail?titleId...</td>\n",
       "    </tr>\n",
       "    <tr>\n",
       "      <th>804</th>\n",
       "      <td>ㅋㄷㅋㄷ만화</td>\n",
       "      <td>https://shared-comic.pstatic.net/thumb/webtoon...</td>\n",
       "      <td>7화 중간고사</td>\n",
       "      <td>https://comic.naver.com/webtoon/detail?titleId...</td>\n",
       "    </tr>\n",
       "    <tr>\n",
       "      <th>805</th>\n",
       "      <td>ㅋㄷㅋㄷ만화</td>\n",
       "      <td>https://shared-comic.pstatic.net/thumb/webtoon...</td>\n",
       "      <td>6화 친구 사이 이상없음!</td>\n",
       "      <td>https://comic.naver.com/webtoon/detail?titleId...</td>\n",
       "    </tr>\n",
       "  </tbody>\n",
       "</table>\n",
       "</div>"
      ],
      "text/plain": [
       "       name                                         page_image  \\\n",
       "788  ㅋㄷㅋㄷ만화  https://shared-comic.pstatic.net/thumb/webtoon...   \n",
       "789  ㅋㄷㅋㄷ만화  https://shared-comic.pstatic.net/thumb/webtoon...   \n",
       "790  ㅋㄷㅋㄷ만화  https://shared-comic.pstatic.net/thumb/webtoon...   \n",
       "791  ㅋㄷㅋㄷ만화  https://shared-comic.pstatic.net/thumb/webtoon...   \n",
       "792  ㅋㄷㅋㄷ만화  https://shared-comic.pstatic.net/thumb/webtoon...   \n",
       "793  ㅋㄷㅋㄷ만화  https://shared-comic.pstatic.net/thumb/webtoon...   \n",
       "794  ㅋㄷㅋㄷ만화  https://shared-comic.pstatic.net/thumb/webtoon...   \n",
       "795  ㅋㄷㅋㄷ만화  https://shared-comic.pstatic.net/thumb/webtoon...   \n",
       "796  ㅋㄷㅋㄷ만화  https://shared-comic.pstatic.net/thumb/webtoon...   \n",
       "797  ㅋㄷㅋㄷ만화  https://shared-comic.pstatic.net/thumb/webtoon...   \n",
       "798  ㅋㄷㅋㄷ만화  https://shared-comic.pstatic.net/thumb/webtoon...   \n",
       "799  ㅋㄷㅋㄷ만화  https://shared-comic.pstatic.net/thumb/webtoon...   \n",
       "800  ㅋㄷㅋㄷ만화  https://shared-comic.pstatic.net/thumb/webtoon...   \n",
       "801  ㅋㄷㅋㄷ만화  https://shared-comic.pstatic.net/thumb/webtoon...   \n",
       "802  ㅋㄷㅋㄷ만화  https://shared-comic.pstatic.net/thumb/webtoon...   \n",
       "803  ㅋㄷㅋㄷ만화  https://shared-comic.pstatic.net/thumb/webtoon...   \n",
       "804  ㅋㄷㅋㄷ만화  https://shared-comic.pstatic.net/thumb/webtoon...   \n",
       "805  ㅋㄷㅋㄷ만화  https://shared-comic.pstatic.net/thumb/webtoon...   \n",
       "\n",
       "                      title                                          page_link  \n",
       "788         8화 : 함께 할 수 있어요  https://comic.naver.com/webtoon/detail?titleId...  \n",
       "789       7화 : 이게 왜 여기서 나와?  https://comic.naver.com/webtoon/detail?titleId...  \n",
       "790         6화 : 일상생활, 문제없어  https://comic.naver.com/webtoon/detail?titleId...  \n",
       "791              5화 : 익명+무료  https://comic.naver.com/webtoon/detail?titleId...  \n",
       "792          4화 : 다 내 얘기 같아  https://comic.naver.com/webtoon/detail?titleId...  \n",
       "793       3화 : 부끄러워 할 필요 없지  https://comic.naver.com/webtoon/detail?titleId...  \n",
       "794       2화 : 미리미리 준비의 중요성  https://comic.naver.com/webtoon/detail?titleId...  \n",
       "795  1화 : 당연한데도 어렵다고 생각하는 것  https://comic.naver.com/webtoon/detail?titleId...  \n",
       "796             건강한 부부생활 4화  https://comic.naver.com/webtoon/detail?titleId...  \n",
       "797             건강한 부부생활 2화  https://comic.naver.com/webtoon/detail?titleId...  \n",
       "798             건강한 부부생활 1화  https://comic.naver.com/webtoon/detail?titleId...  \n",
       "799              모리의 세포들 4화  https://comic.naver.com/webtoon/detail?titleId...  \n",
       "800              모리의 세포들 3화  https://comic.naver.com/webtoon/detail?titleId...  \n",
       "801              모리의 세포들 2화  https://comic.naver.com/webtoon/detail?titleId...  \n",
       "802              모리의 세포들 1화  https://comic.naver.com/webtoon/detail?titleId...  \n",
       "803              8화 함께 알아가자  https://comic.naver.com/webtoon/detail?titleId...  \n",
       "804                 7화 중간고사  https://comic.naver.com/webtoon/detail?titleId...  \n",
       "805          6화 친구 사이 이상없음!  https://comic.naver.com/webtoon/detail?titleId...  "
      ]
     },
     "metadata": {},
     "execution_count": 30
    }
   ],
   "metadata": {}
  },
  {
   "cell_type": "code",
   "execution_count": 31,
   "source": [
    "i+=1"
   ],
   "outputs": [],
   "metadata": {}
  },
  {
   "cell_type": "code",
   "execution_count": 1,
   "source": [
    "# 154개 언제 다보냐 그냥 새로 가져오자\n",
    "from urllib.request import Request, urlopen\n",
    "from bs4 import BeautifulSoup\n",
    "import numpy as np\n",
    "import pandas as pd"
   ],
   "outputs": [],
   "metadata": {}
  },
  {
   "cell_type": "code",
   "execution_count": 5,
   "source": [
    "order = pd.read_csv('./order_table.csv')[['name', 'link']]"
   ],
   "outputs": [],
   "metadata": {}
  },
  {
   "cell_type": "code",
   "execution_count": 13,
   "source": [
    "# 2일 연재, 3일연재 중복제거\n",
    "order.drop_duplicates('name', inplace=True)"
   ],
   "outputs": [],
   "metadata": {}
  },
  {
   "cell_type": "code",
   "execution_count": 15,
   "source": [
    "order.link"
   ],
   "outputs": [
    {
     "output_type": "execute_result",
     "data": {
      "text/plain": [
       "0      https://comic.naver.com/webtoon/list?titleId=7...\n",
       "1      https://comic.naver.com/webtoon/list?titleId=1...\n",
       "2      https://comic.naver.com/webtoon/list?titleId=6...\n",
       "3      https://comic.naver.com/webtoon/list?titleId=6...\n",
       "4      https://comic.naver.com/webtoon/list?titleId=7...\n",
       "                             ...                        \n",
       "450    https://comic.naver.com/webtoon/list?titleId=7...\n",
       "451    https://comic.naver.com/webtoon/list?titleId=7...\n",
       "452    https://comic.naver.com/webtoon/list?titleId=7...\n",
       "453    https://comic.naver.com/webtoon/list?titleId=7...\n",
       "454    https://comic.naver.com/webtoon/list?titleId=7...\n",
       "Name: link, Length: 443, dtype: object"
      ]
     },
     "metadata": {},
     "execution_count": 15
    }
   ],
   "metadata": {}
  },
  {
   "cell_type": "code",
   "execution_count": 18,
   "source": [
    "order['titleId'] = order['link'].str.split('?',expand = True)[1].str.split('=',expand = True)[1].str.split('&',expand = True)[0]"
   ],
   "outputs": [],
   "metadata": {}
  },
  {
   "cell_type": "code",
   "execution_count": 19,
   "source": [
    "titleId = order['titleId'].values"
   ],
   "outputs": [],
   "metadata": {}
  },
  {
   "cell_type": "code",
   "execution_count": 63,
   "source": [
    "#최신 10화\n",
    "for link in titleId:\n",
    "    url = 'https://comic.naver.com/webtoon/list?titleId='+str(link)+'&page=1'\n",
    "    count = 0\n",
    "    while 1:\n",
    "        request = Request(url)\n",
    "        request.get_method = lambda: 'GET'\n",
    "        response_body = urlopen(request).read()\n",
    "        soup = BeautifulSoup(response_body, 'html.parser')\n",
    "        rough = soup.select('#content > div.comicinfo')\n",
    "        name1 = []\n",
    "        link2 = []\n",
    "        title = []\n",
    "        link3 = []\n",
    "\n",
    "        if (len(soup.select('#content > table')[0].find_all('a'))==21) | (len(soup.select('#content > table')[0].find_all('a'))==22):\n",
    "            for i in np.arange(10):\n",
    "                name1.append(rough[0].img.get('title'))\n",
    "                link2.append(soup.select('#content > table')[0].find_all('a')[-2-i*2].img.get('src'))\n",
    "                title.append(soup.select('#content > table')[0].find_all('a')[-2-i*2].img.get('alt'))\n",
    "                link3.append('https://comic.naver.com'+soup.select('#content > table')[0].find_all('a')[-2-i*2].get('href'))\n",
    "            \n",
    "            image_table_temp = pd.DataFrame(name1).rename(columns={0:'name'})\n",
    "            image_table_temp['page_image'] = link2\n",
    "            image_table_temp['title'] = title\n",
    "            image_table_temp['page_link'] = link3\n",
    "            break\n",
    "            \n",
    "        else:\n",
    "            for i in np.arange(len(soup.select('#content > table')[0].find_all('a'))//2):\n",
    "                if soup.select('#content > table')[0].find_all('a')[-2-i*2].img.get('alt')=='AD 배너':\n",
    "                    break\n",
    "                else:\n",
    "                    name1.append(rough[0].img.get('title'))\n",
    "                    link2.append(soup.select('#content > table')[0].find_all('a')[-2-i*2].img.get('src'))\n",
    "                    title.append(soup.select('#content > table')[0].find_all('a')[-2-i*2].img.get('alt'))\n",
    "                    link3.append('https://comic.naver.com'+soup.select('#content > table')[0].find_all('a')[-2-i*2].get('href'))\n",
    "                    count +=1\n",
    "\n",
    "            if len(soup.select('#content > div.paginate > div')[0].find_all('a', class_='page'))==0:\n",
    "                break\n",
    "            else:\n",
    "                url2 = 'https://comic.naver.com'+soup.select('#content > div.paginate > div')[0].find_all('a', class_='page')[-1].get('href')\n",
    "                request = Request(url2)\n",
    "                request.get_method = lambda: 'GET'\n",
    "                response_body = urlopen(request).read()\n",
    "                soup = BeautifulSoup(response_body, 'html.parser')\n",
    "                for i in np.arange(len(soup.select('#content > table')[0].find_all('a'))//2):\n",
    "                    if count==10:\n",
    "                        break\n",
    "                    name1.append(rough[0].img.get('title'))\n",
    "                    link2.append(soup.select('#content > table')[0].find_all('a')[-2-i*2].img.get('src'))\n",
    "                    title.append(soup.select('#content > table')[0].find_all('a')[-2-i*2].img.get('alt'))\n",
    "                    link3.append('https://comic.naver.com'+soup.select('#content > table')[0].find_all('a')[-2-i*2].get('href'))\n",
    "                    count +=1\n",
    "\n",
    "        # 찾은 정보 데이터 프레임 안에 넣기\n",
    "            image_table_temp = pd.DataFrame(name1).rename(columns={0:'name'})\n",
    "            image_table_temp['page_image'] = link2\n",
    "            image_table_temp['title'] = title\n",
    "            image_table_temp['page_link'] = link3\n",
    "        if count==10:\n",
    "            break\n",
    "\n",
    "    if link == titleId[0]:\n",
    "        image_table = image_table_temp\n",
    "\n",
    "    else:\n",
    "        image_table = pd.concat([image_table,image_table_temp], axis=0)\n",
    "#오래된 10화\n",
    "for link in titleId:\n",
    "    url = 'https://comic.naver.com/webtoon/list?titleId='+str(link)+'&page=999'\n",
    "    count = 0\n",
    "    while 1:\n",
    "        request = Request(url)\n",
    "        request.get_method = lambda: 'GET'\n",
    "        response_body = urlopen(request).read()\n",
    "        soup = BeautifulSoup(response_body, 'html.parser')\n",
    "        rough = soup.select('#content > div.comicinfo')\n",
    "        name1 = []\n",
    "        link2 = []\n",
    "        title = []\n",
    "        link3 = []\n",
    "\n",
    "        if (len(soup.select('#content > table')[0].find_all('a'))==21) | (len(soup.select('#content > table')[0].find_all('a'))==22):\n",
    "            for i in np.arange(10):\n",
    "                name1.append(rough[0].img.get('title'))\n",
    "                link2.append(soup.select('#content > table')[0].find_all('a')[-2-i*2].img.get('src'))\n",
    "                title.append(soup.select('#content > table')[0].find_all('a')[-2-i*2].img.get('alt'))\n",
    "                link3.append('https://comic.naver.com'+soup.select('#content > table')[0].find_all('a')[-2-i*2].get('href'))\n",
    "            \n",
    "            image_table_temp = pd.DataFrame(name1).rename(columns={0:'name'})\n",
    "            image_table_temp['page_image'] = link2\n",
    "            image_table_temp['title'] = title\n",
    "            image_table_temp['page_link'] = link3\n",
    "            break\n",
    "            \n",
    "        else:\n",
    "            for i in np.arange(len(soup.select('#content > table')[0].find_all('a'))//2):\n",
    "                if soup.select('#content > table')[0].find_all('a')[-2-i*2].img.get('alt')=='AD 배너':\n",
    "                    break\n",
    "                else:\n",
    "                    name1.append(rough[0].img.get('title'))\n",
    "                    link2.append(soup.select('#content > table')[0].find_all('a')[-2-i*2].img.get('src'))\n",
    "                    title.append(soup.select('#content > table')[0].find_all('a')[-2-i*2].img.get('alt'))\n",
    "                    link3.append('https://comic.naver.com'+soup.select('#content > table')[0].find_all('a')[-2-i*2].get('href'))\n",
    "                    count +=1\n",
    "\n",
    "            if len(soup.select('#content > div.paginate > div')[0].find_all('a', class_='page'))==0:\n",
    "                break\n",
    "            else:\n",
    "                url2 = 'https://comic.naver.com'+soup.select('#content > div.paginate > div')[0].find_all('a', class_='page')[-1].get('href')\n",
    "                request = Request(url2)\n",
    "                request.get_method = lambda: 'GET'\n",
    "                response_body = urlopen(request).read()\n",
    "                soup = BeautifulSoup(response_body, 'html.parser')\n",
    "                for i in np.arange(len(soup.select('#content > table')[0].find_all('a'))//2):\n",
    "                    if count==10:\n",
    "                        break\n",
    "                    name1.append(rough[0].img.get('title'))\n",
    "                    link2.append(soup.select('#content > table')[0].find_all('a')[-2-i*2].img.get('src'))\n",
    "                    title.append(soup.select('#content > table')[0].find_all('a')[-2-i*2].img.get('alt'))\n",
    "                    link3.append('https://comic.naver.com'+soup.select('#content > table')[0].find_all('a')[-2-i*2].get('href'))\n",
    "                    count +=1\n",
    "        # 찾은 정보 데이터 프레임 안에 넣기\n",
    "            image_table_temp = pd.DataFrame(name1).rename(columns={0:'name'})\n",
    "            image_table_temp['page_image'] = link2\n",
    "            image_table_temp['title'] = title\n",
    "            image_table_temp['page_link'] = link3\n",
    "        if count==10:\n",
    "            break\n",
    "\n",
    "    image_table = pd.concat([image_table,image_table_temp], axis=0)"
   ],
   "outputs": [],
   "metadata": {}
  },
  {
   "cell_type": "code",
   "execution_count": 66,
   "source": [
    "image_table.drop_duplicates('page_link',inplace=True)"
   ],
   "outputs": [],
   "metadata": {}
  },
  {
   "cell_type": "code",
   "execution_count": 68,
   "source": [
    "image_table.to_csv('image_table_2.csv',index=False)"
   ],
   "outputs": [],
   "metadata": {}
  },
  {
   "cell_type": "code",
   "execution_count": 69,
   "source": [
    "check = pd.read_csv('image_table_2.csv')"
   ],
   "outputs": [],
   "metadata": {}
  },
  {
   "cell_type": "code",
   "execution_count": 72,
   "source": [
    "check.groupby('name').count().plot.hist()"
   ],
   "outputs": [
    {
     "output_type": "execute_result",
     "data": {
      "text/plain": [
       "<AxesSubplot:ylabel='Frequency'>"
      ]
     },
     "metadata": {},
     "execution_count": 72
    },
    {
     "output_type": "display_data",
     "data": {
      "image/png": "[encoded data removed]",
      "text/plain": [
       "<Figure size 432x288 with 1 Axes>"
      ]
     },
     "metadata": {
      "needs_background": "light"
     }
    }
   ],
   "metadata": {}
  },
  {
   "cell_type": "code",
   "execution_count": null,
   "source": [],
   "outputs": [],
   "metadata": {}
  }
 ],
 "metadata": {
  "orig_nbformat": 4,
  "language_info": {
   "name": "python",
   "version": "3.8.8",
   "mimetype": "text/x-python",
   "codemirror_mode": {
    "name": "ipython",
    "version": 3
   },
   "pygments_lexer": "ipython3",
   "nbconvert_exporter": "python",
   "file_extension": ".py"
  },
  "kernelspec": {
   "name": "python3",
   "display_name": "Python 3.8.8 64-bit ('base': conda)"
  },
  "interpreter": {
   "hash": "e32aa2a74c3e20f73d0da94c1be63f7d806e5a28e2ae1d4b9b0270ef66b592ed"
  }
 },
 "nbformat": 4,
 "nbformat_minor": 2
}